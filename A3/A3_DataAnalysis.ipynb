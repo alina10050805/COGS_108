{
 "cells": [
  {
   "cell_type": "markdown",
   "metadata": {
    "deletable": false,
    "editable": false,
    "nbgrader": {
     "cell_type": "markdown",
     "checksum": "be32c5ed40241a809632079c65e3f476",
     "grade": false,
     "grade_id": "title",
     "locked": true,
     "schema_version": 3,
     "solution": false
    }
   },
   "source": [
    "# COGS 108 - Assignment 3: Data Analysis\n",
    "\n",
    "This assignment covers extensive data cleaning, EDA, and regression.\n",
    "\n",
    "This assignment is out of 8 points, worth 8% of your grade.\n",
    "\n",
    "**PLEASE DO NOT CHANGE THE NAME OF THIS FILE.**\n",
    "\n",
    "**PLEASE DO NOT COPY & PASTE OR DELETE CELLS INLCUDED IN THE ASSIGNMENT."
   ]
  },
  {
   "cell_type": "markdown",
   "metadata": {
    "deletable": false,
    "editable": false,
    "nbgrader": {
     "cell_type": "markdown",
     "checksum": "3c11a7018235e0a87709ead95ce5374e",
     "grade": false,
     "grade_id": "instr",
     "locked": true,
     "schema_version": 3,
     "solution": false
    }
   },
   "source": [
    "# Important Reminders\n",
    "\n",
    "- This assignment has hidden tests: tests that are not visible here, but that will be run on your submitted assignment for grading.\n",
    "    - This means passing all the tests you can see in the notebook here does not guarantee you have the right answer!\n",
    "    - In particular many of the tests you can see simply check that the right variable names exist. Hidden tests check the actual values. \n",
    "        - It is up to you to check the values, and make sure they seem reasonable.\n",
    "- A reminder to restart the kernel and re-run the code as a first line check if things seem to go weird.\n",
    "    - For example, note that some cells can only be run once, because they re-write a variable (for example, your dataframe), and change it in a way that means a second execution will fail. \n",
    "    - Also, running some cells out of order might change the dataframe in ways that may cause an error, which can be fixed by re-running."
   ]
  },
  {
   "cell_type": "markdown",
   "metadata": {
    "deletable": false,
    "editable": false,
    "nbgrader": {
     "cell_type": "markdown",
     "checksum": "7ddd273b43190d310a013a1c3ca2a8f5",
     "grade": false,
     "grade_id": "cell-63591df69146fa5e",
     "locked": true,
     "schema_version": 3,
     "solution": false
    }
   },
   "source": [
    "Run the following cell. These are all you need for the assignment. Do not import additional packages."
   ]
  },
  {
   "cell_type": "code",
   "execution_count": 34,
   "metadata": {
    "deletable": false,
    "editable": false,
    "nbgrader": {
     "cell_type": "code",
     "checksum": "f8106e883d87656c6b3ebaf13a2878d6",
     "grade": false,
     "grade_id": "imports",
     "locked": true,
     "schema_version": 3,
     "solution": false
    }
   },
   "outputs": [],
   "source": [
    "# Imports \n",
    "%matplotlib inline\n",
    "\n",
    "import numpy as np\n",
    "import pandas as pd\n",
    "import matplotlib.pyplot as plt\n",
    "\n",
    "import seaborn as sns\n",
    "sns.set()\n",
    "sns.set_context('talk')\n",
    "\n",
    "import warnings\n",
    "warnings.filterwarnings('ignore')\n",
    "\n",
    "import patsy\n",
    "import statsmodels.api as sm\n",
    "import scipy.stats as stats\n",
    "from scipy.stats import ttest_ind, chisquare, normaltest\n",
    "# Note: the statsmodels import may print out a 'FutureWarning'. Thats fine."
   ]
  },
  {
   "cell_type": "markdown",
   "metadata": {
    "deletable": false,
    "editable": false,
    "nbgrader": {
     "cell_type": "markdown",
     "checksum": "32e533d252cfadd28c837e4b940fd5a2",
     "grade": false,
     "grade_id": "setup",
     "locked": true,
     "schema_version": 3,
     "solution": false
    }
   },
   "source": [
    "## Setup\n",
    "\n",
    "Data: the responses collected from a previous survery of the COGS 108 class. \n",
    "- There are 416 observations in the data, covering 10 different 'features'.\n",
    "\n",
    "Research Question: Do students in different majors have different heights?\n",
    "\n",
    "Background: Physical height has previously shown to correlate with career choice, and career success. More recently it has been demonstrated that these correlations can actually be explained by height in high school, as opposed to height in adulthood (1). It is currently unclear whether height correlates with choice of major in university. \n",
    "\n",
    "Reference: 1) https://www.sas.upenn.edu/~apostlew/paper/pdf/short.pdf\n",
    "\n",
    "Hypothesis: We hypothesize that there will be a relation between height and chosen major. "
   ]
  },
  {
   "cell_type": "markdown",
   "metadata": {
    "deletable": false,
    "editable": false,
    "nbgrader": {
     "cell_type": "markdown",
     "checksum": "a32f2e4b20781bbd0c055b2cc84a1b55",
     "grade": false,
     "grade_id": "part1-title",
     "locked": true,
     "schema_version": 3,
     "solution": false
    }
   },
   "source": [
    "## Part 1: Load & Clean the Data (2.5 points)\n"
   ]
  },
  {
   "cell_type": "markdown",
   "metadata": {
    "deletable": false,
    "editable": false,
    "nbgrader": {
     "cell_type": "markdown",
     "checksum": "bb2074c24750cdd719937a8d9cb05275",
     "grade": false,
     "grade_id": "cell-9b83334ad8ec954e",
     "locked": true,
     "schema_version": 3,
     "solution": false
    }
   },
   "source": [
    "Fixing messy data makes up a large amount of the work of being a Data Scientist. \n",
    "\n",
    "The real world produces messy measurements and it is your job to find ways to standardize your data such that you can make useful analyses out of it. \n",
    "\n",
    "In this section, you will learn, and practice, how to successfully deal with unclean data."
   ]
  },
  {
   "cell_type": "markdown",
   "metadata": {
    "deletable": false,
    "editable": false,
    "nbgrader": {
     "cell_type": "markdown",
     "checksum": "c39ac3d633ff4287900c7ab60988b268",
     "grade": false,
     "grade_id": "cell-fa2a938005a3c187",
     "locked": true,
     "schema_version": 3,
     "solution": false
    }
   },
   "source": [
    "### 1a) Load the data\n",
    "Import datafile `COGS108_IntroQuestionnaireData.csv` into a DataFrame called `df`."
   ]
  },
  {
   "cell_type": "code",
   "execution_count": 35,
   "metadata": {
    "deletable": false,
    "nbgrader": {
     "cell_type": "code",
     "checksum": "07cd9266d2c70b7118ab98d055e96e78",
     "grade": false,
     "grade_id": "cell-252b5cfd5c8ceff2",
     "locked": false,
     "schema_version": 3,
     "solution": true
    }
   },
   "outputs": [],
   "source": [
    "# your code here\n",
    "df = pd.read_csv('COGS108_IntroQuestionnaireData.csv')"
   ]
  },
  {
   "cell_type": "code",
   "execution_count": 36,
   "metadata": {
    "deletable": false,
    "editable": false,
    "nbgrader": {
     "cell_type": "code",
     "checksum": "a25a86bba7fa3c87f20a736b7911b502",
     "grade": true,
     "grade_id": "1a_ans",
     "locked": true,
     "points": 0.2,
     "schema_version": 3,
     "solution": false
    }
   },
   "outputs": [],
   "source": [
    "assert isinstance(df, pd.DataFrame)\n"
   ]
  },
  {
   "cell_type": "code",
   "execution_count": 37,
   "metadata": {
    "deletable": false,
    "editable": false,
    "nbgrader": {
     "cell_type": "code",
     "checksum": "80a6494f7b727f81ccdc5f9e727a69d6",
     "grade": false,
     "grade_id": "cell-61a420950f1db378",
     "locked": true,
     "schema_version": 3,
     "solution": false
    }
   },
   "outputs": [
    {
     "data": {
      "text/html": [
       "<div>\n",
       "<style scoped>\n",
       "    .dataframe tbody tr th:only-of-type {\n",
       "        vertical-align: middle;\n",
       "    }\n",
       "\n",
       "    .dataframe tbody tr th {\n",
       "        vertical-align: top;\n",
       "    }\n",
       "\n",
       "    .dataframe thead th {\n",
       "        text-align: right;\n",
       "    }\n",
       "</style>\n",
       "<table border=\"1\" class=\"dataframe\">\n",
       "  <thead>\n",
       "    <tr style=\"text-align: right;\">\n",
       "      <th></th>\n",
       "      <th>Timestamp</th>\n",
       "      <th>What year (in school) are you?</th>\n",
       "      <th>What is your major?</th>\n",
       "      <th>How old are you?</th>\n",
       "      <th>What is your gender?</th>\n",
       "      <th>What is your height?</th>\n",
       "      <th>What is your weight?</th>\n",
       "      <th>What is your eye color?</th>\n",
       "      <th>Were you born in California?</th>\n",
       "      <th>What is your favorite flavor of ice cream?</th>\n",
       "    </tr>\n",
       "  </thead>\n",
       "  <tbody>\n",
       "    <tr>\n",
       "      <th>0</th>\n",
       "      <td>1/9/18 14:49</td>\n",
       "      <td>4</td>\n",
       "      <td>Cognitive Science</td>\n",
       "      <td>21.0</td>\n",
       "      <td>Male</td>\n",
       "      <td>5'8\"</td>\n",
       "      <td>147</td>\n",
       "      <td>Brown</td>\n",
       "      <td>Yes</td>\n",
       "      <td>Vanilla</td>\n",
       "    </tr>\n",
       "    <tr>\n",
       "      <th>1</th>\n",
       "      <td>1/9/18 14:49</td>\n",
       "      <td>3</td>\n",
       "      <td>Cognitive Science</td>\n",
       "      <td>20.0</td>\n",
       "      <td>Male</td>\n",
       "      <td>5'8</td>\n",
       "      <td>150</td>\n",
       "      <td>Brown</td>\n",
       "      <td>Yes</td>\n",
       "      <td>Cookies and Cream</td>\n",
       "    </tr>\n",
       "    <tr>\n",
       "      <th>2</th>\n",
       "      <td>1/9/18 14:49</td>\n",
       "      <td>Third</td>\n",
       "      <td>Computer Science</td>\n",
       "      <td>21.0</td>\n",
       "      <td>Male</td>\n",
       "      <td>181cm</td>\n",
       "      <td>74kg</td>\n",
       "      <td>Black</td>\n",
       "      <td>Yes</td>\n",
       "      <td>Matcha</td>\n",
       "    </tr>\n",
       "    <tr>\n",
       "      <th>3</th>\n",
       "      <td>1/9/18 14:49</td>\n",
       "      <td>2</td>\n",
       "      <td>Cogs HCI</td>\n",
       "      <td>20.0</td>\n",
       "      <td>Male</td>\n",
       "      <td>5’8</td>\n",
       "      <td>133</td>\n",
       "      <td>Brown</td>\n",
       "      <td>Yes</td>\n",
       "      <td>Cookies and Cream</td>\n",
       "    </tr>\n",
       "    <tr>\n",
       "      <th>4</th>\n",
       "      <td>1/9/18 14:49</td>\n",
       "      <td>3</td>\n",
       "      <td>Computer Science</td>\n",
       "      <td>20.0</td>\n",
       "      <td>Male</td>\n",
       "      <td>5'10\"</td>\n",
       "      <td>160</td>\n",
       "      <td>Brown</td>\n",
       "      <td>Yes</td>\n",
       "      <td>Cookies n' Cream</td>\n",
       "    </tr>\n",
       "  </tbody>\n",
       "</table>\n",
       "</div>"
      ],
      "text/plain": [
       "      Timestamp What year (in school) are you? What is your major?  \\\n",
       "0  1/9/18 14:49                              4   Cognitive Science   \n",
       "1  1/9/18 14:49                              3   Cognitive Science   \n",
       "2  1/9/18 14:49                          Third    Computer Science   \n",
       "3  1/9/18 14:49                              2            Cogs HCI   \n",
       "4  1/9/18 14:49                              3    Computer Science   \n",
       "\n",
       "   How old are you? What is your gender? What is your height?  \\\n",
       "0              21.0                 Male                 5'8\"   \n",
       "1              20.0                 Male                  5'8   \n",
       "2              21.0                 Male                181cm   \n",
       "3              20.0                 Male                  5’8   \n",
       "4              20.0                 Male                5'10\"   \n",
       "\n",
       "  What is your weight? What is your eye color? Were you born in California?  \\\n",
       "0                  147                   Brown                          Yes   \n",
       "1                  150                   Brown                          Yes   \n",
       "2                 74kg                   Black                          Yes   \n",
       "3                  133                   Brown                          Yes   \n",
       "4                  160                   Brown                          Yes   \n",
       "\n",
       "  What is your favorite flavor of ice cream?  \n",
       "0                                    Vanilla  \n",
       "1                          Cookies and Cream  \n",
       "2                                     Matcha  \n",
       "3                          Cookies and Cream  \n",
       "4                           Cookies n' Cream  "
      ]
     },
     "execution_count": 37,
     "metadata": {},
     "output_type": "execute_result"
    }
   ],
   "source": [
    "#Check out the data\n",
    "df.head(5)"
   ]
  },
  {
   "cell_type": "markdown",
   "metadata": {
    "deletable": false,
    "editable": false,
    "nbgrader": {
     "cell_type": "markdown",
     "checksum": "21c928cef2bc165a4ff6f7bb8373c252",
     "grade": false,
     "grade_id": "cell-17404c0fbde64360",
     "locked": true,
     "schema_version": 3,
     "solution": false
    }
   },
   "source": [
    "Those column names are a bit excessive, so first let's rename them - code provided below to do so. "
   ]
  },
  {
   "cell_type": "code",
   "execution_count": 38,
   "metadata": {
    "deletable": false,
    "editable": false,
    "nbgrader": {
     "cell_type": "code",
     "checksum": "571e24ba4ba03e9cb9d6e1fd52eaff3d",
     "grade": false,
     "grade_id": "cell-d9fa719279b7cb33",
     "locked": true,
     "schema_version": 3,
     "solution": false
    }
   },
   "outputs": [],
   "source": [
    "# Renaming the columns of the dataframe\n",
    "df.columns = ['timestamp', 'year', 'major', 'age', 'gender', 'height',\n",
    "              'weight', 'eye_color', 'born_in_CA', 'favorite_icecream']"
   ]
  },
  {
   "cell_type": "markdown",
   "metadata": {
    "deletable": false,
    "editable": false,
    "nbgrader": {
     "cell_type": "markdown",
     "checksum": "a5cede24cdbef62517efdb5de950e6f5",
     "grade": false,
     "grade_id": "cell-cf1899b1f00333c8",
     "locked": true,
     "schema_version": 3,
     "solution": false
    }
   },
   "source": [
    "`pandas` has a very useful function for detecting missing data. This function is called `isnull()`. \n",
    "\n",
    "If you have a dataframe called `df`, then calling `df.isnull()` will return another dataframe of the same size as `df` where every cell is either True of False. \n",
    "\n",
    "Each True or False is the answer to the question 'is the data in this cell null?'. So, False, means the cell is not null (and therefore, does have data). True means the cell is null (does not have data).\n",
    "\n",
    "This function is very useful because it allows us to find missing data very quickly in our dataframe. As an example, consider the code below."
   ]
  },
  {
   "cell_type": "code",
   "execution_count": 39,
   "metadata": {
    "deletable": false,
    "editable": false,
    "nbgrader": {
     "cell_type": "code",
     "checksum": "b5bd1f30b8443e94e0ade52162fdcf25",
     "grade": false,
     "grade_id": "cell-e7d9fb27de2854f0",
     "locked": true,
     "schema_version": 3,
     "solution": false
    }
   },
   "outputs": [
    {
     "data": {
      "text/html": [
       "<div>\n",
       "<style scoped>\n",
       "    .dataframe tbody tr th:only-of-type {\n",
       "        vertical-align: middle;\n",
       "    }\n",
       "\n",
       "    .dataframe tbody tr th {\n",
       "        vertical-align: top;\n",
       "    }\n",
       "\n",
       "    .dataframe thead th {\n",
       "        text-align: right;\n",
       "    }\n",
       "</style>\n",
       "<table border=\"1\" class=\"dataframe\">\n",
       "  <thead>\n",
       "    <tr style=\"text-align: right;\">\n",
       "      <th></th>\n",
       "      <th>timestamp</th>\n",
       "      <th>year</th>\n",
       "      <th>major</th>\n",
       "      <th>age</th>\n",
       "      <th>gender</th>\n",
       "      <th>height</th>\n",
       "      <th>weight</th>\n",
       "      <th>eye_color</th>\n",
       "      <th>born_in_CA</th>\n",
       "      <th>favorite_icecream</th>\n",
       "    </tr>\n",
       "  </thead>\n",
       "  <tbody>\n",
       "    <tr>\n",
       "      <th>0</th>\n",
       "      <td>False</td>\n",
       "      <td>False</td>\n",
       "      <td>False</td>\n",
       "      <td>False</td>\n",
       "      <td>False</td>\n",
       "      <td>False</td>\n",
       "      <td>False</td>\n",
       "      <td>False</td>\n",
       "      <td>False</td>\n",
       "      <td>False</td>\n",
       "    </tr>\n",
       "    <tr>\n",
       "      <th>1</th>\n",
       "      <td>False</td>\n",
       "      <td>False</td>\n",
       "      <td>False</td>\n",
       "      <td>False</td>\n",
       "      <td>False</td>\n",
       "      <td>False</td>\n",
       "      <td>False</td>\n",
       "      <td>False</td>\n",
       "      <td>False</td>\n",
       "      <td>False</td>\n",
       "    </tr>\n",
       "    <tr>\n",
       "      <th>2</th>\n",
       "      <td>False</td>\n",
       "      <td>False</td>\n",
       "      <td>False</td>\n",
       "      <td>False</td>\n",
       "      <td>False</td>\n",
       "      <td>False</td>\n",
       "      <td>False</td>\n",
       "      <td>False</td>\n",
       "      <td>False</td>\n",
       "      <td>False</td>\n",
       "    </tr>\n",
       "    <tr>\n",
       "      <th>3</th>\n",
       "      <td>False</td>\n",
       "      <td>False</td>\n",
       "      <td>False</td>\n",
       "      <td>False</td>\n",
       "      <td>False</td>\n",
       "      <td>False</td>\n",
       "      <td>False</td>\n",
       "      <td>False</td>\n",
       "      <td>False</td>\n",
       "      <td>False</td>\n",
       "    </tr>\n",
       "    <tr>\n",
       "      <th>4</th>\n",
       "      <td>False</td>\n",
       "      <td>False</td>\n",
       "      <td>False</td>\n",
       "      <td>False</td>\n",
       "      <td>False</td>\n",
       "      <td>False</td>\n",
       "      <td>False</td>\n",
       "      <td>False</td>\n",
       "      <td>False</td>\n",
       "      <td>False</td>\n",
       "    </tr>\n",
       "  </tbody>\n",
       "</table>\n",
       "</div>"
      ],
      "text/plain": [
       "   timestamp   year  major    age  gender  height  weight  eye_color  \\\n",
       "0      False  False  False  False   False   False   False      False   \n",
       "1      False  False  False  False   False   False   False      False   \n",
       "2      False  False  False  False   False   False   False      False   \n",
       "3      False  False  False  False   False   False   False      False   \n",
       "4      False  False  False  False   False   False   False      False   \n",
       "\n",
       "   born_in_CA  favorite_icecream  \n",
       "0       False              False  \n",
       "1       False              False  \n",
       "2       False              False  \n",
       "3       False              False  \n",
       "4       False              False  "
      ]
     },
     "execution_count": 39,
     "metadata": {},
     "output_type": "execute_result"
    }
   ],
   "source": [
    "# Check the first few rows of the 'isnull' dataframe\n",
    "df.isnull().head(5)"
   ]
  },
  {
   "cell_type": "markdown",
   "metadata": {
    "deletable": false,
    "editable": false,
    "nbgrader": {
     "cell_type": "markdown",
     "checksum": "f50432605361b6756cb2d34555df6451",
     "grade": false,
     "grade_id": "cell-9bad2a4b4f95b18d",
     "locked": true,
     "schema_version": 3,
     "solution": false
    }
   },
   "source": [
    "If you print out more, and scroll down, you'll see some rows with missing data. "
   ]
  },
  {
   "cell_type": "code",
   "execution_count": 40,
   "metadata": {
    "deletable": false,
    "editable": false,
    "nbgrader": {
     "cell_type": "code",
     "checksum": "bc59192b49d12691cb843223737185de",
     "grade": false,
     "grade_id": "cell-dbf2938a926e4835",
     "locked": true,
     "schema_version": 3,
     "solution": false
    }
   },
   "outputs": [
    {
     "data": {
      "text/html": [
       "<div>\n",
       "<style scoped>\n",
       "    .dataframe tbody tr th:only-of-type {\n",
       "        vertical-align: middle;\n",
       "    }\n",
       "\n",
       "    .dataframe tbody tr th {\n",
       "        vertical-align: top;\n",
       "    }\n",
       "\n",
       "    .dataframe thead th {\n",
       "        text-align: right;\n",
       "    }\n",
       "</style>\n",
       "<table border=\"1\" class=\"dataframe\">\n",
       "  <thead>\n",
       "    <tr style=\"text-align: right;\">\n",
       "      <th></th>\n",
       "      <th>timestamp</th>\n",
       "      <th>year</th>\n",
       "      <th>major</th>\n",
       "      <th>age</th>\n",
       "      <th>gender</th>\n",
       "      <th>height</th>\n",
       "      <th>weight</th>\n",
       "      <th>eye_color</th>\n",
       "      <th>born_in_CA</th>\n",
       "      <th>favorite_icecream</th>\n",
       "    </tr>\n",
       "  </thead>\n",
       "  <tbody>\n",
       "    <tr>\n",
       "      <th>48</th>\n",
       "      <td>False</td>\n",
       "      <td>False</td>\n",
       "      <td>False</td>\n",
       "      <td>False</td>\n",
       "      <td>False</td>\n",
       "      <td>False</td>\n",
       "      <td>False</td>\n",
       "      <td>False</td>\n",
       "      <td>False</td>\n",
       "      <td>False</td>\n",
       "    </tr>\n",
       "    <tr>\n",
       "      <th>49</th>\n",
       "      <td>False</td>\n",
       "      <td>True</td>\n",
       "      <td>False</td>\n",
       "      <td>False</td>\n",
       "      <td>False</td>\n",
       "      <td>True</td>\n",
       "      <td>True</td>\n",
       "      <td>False</td>\n",
       "      <td>False</td>\n",
       "      <td>False</td>\n",
       "    </tr>\n",
       "  </tbody>\n",
       "</table>\n",
       "</div>"
      ],
      "text/plain": [
       "    timestamp   year  major    age  gender  height  weight  eye_color  \\\n",
       "48      False  False  False  False   False   False   False      False   \n",
       "49      False   True  False  False   False    True    True      False   \n",
       "\n",
       "    born_in_CA  favorite_icecream  \n",
       "48       False              False  \n",
       "49       False              False  "
      ]
     },
     "execution_count": 40,
     "metadata": {},
     "output_type": "execute_result"
    }
   ],
   "source": [
    "# For example:\n",
    "df.isnull().iloc[48:50, :]"
   ]
  },
  {
   "cell_type": "markdown",
   "metadata": {
    "deletable": false,
    "editable": false,
    "nbgrader": {
     "cell_type": "markdown",
     "checksum": "28719ab62ef0e0ab7af7968c3b1aeba2",
     "grade": false,
     "grade_id": "cell-5b2dd5b0166bbdd2",
     "locked": true,
     "schema_version": 3,
     "solution": false
    }
   },
   "source": [
    " Check an example, row 49, in which an entry has missing data:"
   ]
  },
  {
   "cell_type": "code",
   "execution_count": 41,
   "metadata": {
    "deletable": false,
    "editable": false,
    "nbgrader": {
     "cell_type": "code",
     "checksum": "141beec388a87e84d75fc79552376f37",
     "grade": false,
     "grade_id": "cell-30d70e19a2fdf110",
     "locked": true,
     "schema_version": 3,
     "solution": false
    }
   },
   "outputs": [
    {
     "data": {
      "text/plain": [
       "timestamp            1/9/18 14:50\n",
       "year                          NaN\n",
       "major                     Cog Sci\n",
       "age                          21.0\n",
       "gender                     Female\n",
       "height                        NaN\n",
       "weight                        NaN\n",
       "eye_color                   Brown\n",
       "born_in_CA                    Yes\n",
       "favorite_icecream       Chocolate\n",
       "Name: 49, dtype: object"
      ]
     },
     "execution_count": 41,
     "metadata": {},
     "output_type": "execute_result"
    }
   ],
   "source": [
    "df.iloc[49, :]"
   ]
  },
  {
   "cell_type": "markdown",
   "metadata": {
    "deletable": false,
    "editable": false,
    "nbgrader": {
     "cell_type": "markdown",
     "checksum": "a5480c82772aec1820ba77956beb0a80",
     "grade": false,
     "grade_id": "cell-ab125f3306fbd956",
     "locked": true,
     "schema_version": 3,
     "solution": false
    }
   },
   "source": [
    "Granted, the example above is not very informative. As you can see, the output of `isnull()` is a dataframe where the values at each cell is either True or False. Most cells have the value of `False`. We expect this to be the case since most people gave out answers to each question in our survey. \n",
    "\n",
    "However, some rows such as row 49 show that some people chose not to answer certain questions. In the case of row 49, it seems that someone did not give out an answer for 'What year (in school) are you?'\n",
    "\n",
    "However, what if we wanted to use `isnull()` to see all rows where our dataframe `df` has missing values? In other words, what if we want to see the ACTUAL rows with missing values instead of this dataframe with True or False cells. For that, we need to write the following line of code:\n",
    "<br>\n",
    "<br>\n",
    "`df[df.isnull().any(axis=1)]`"
   ]
  },
  {
   "cell_type": "markdown",
   "metadata": {
    "deletable": false,
    "editable": false,
    "nbgrader": {
     "cell_type": "markdown",
     "checksum": "8d8827775eea23876f9b55e6a449b2f8",
     "grade": false,
     "grade_id": "cell-486936dea9781d9e",
     "locked": true,
     "schema_version": 3,
     "solution": false
    }
   },
   "source": [
    "### 1b) Find missing data\n",
    "Find all rows that have missing data in them.\n",
    "\n",
    "Save the ouput, as a dataframe, into a variable called `rows_to_drop`.\n",
    "\n",
    "In other words, copy over and use the line of code that we gave out in the cell above."
   ]
  },
  {
   "cell_type": "code",
   "execution_count": 42,
   "metadata": {
    "deletable": false,
    "nbgrader": {
     "cell_type": "code",
     "checksum": "c2841814ed27962309da056089970f91",
     "grade": false,
     "grade_id": "cell-e3440fa7cdd2647d",
     "locked": false,
     "schema_version": 3,
     "solution": true
    }
   },
   "outputs": [],
   "source": [
    "# your code here\n",
    "rows_to_drop = df[df.isnull().any(axis=1)]"
   ]
  },
  {
   "cell_type": "code",
   "execution_count": 43,
   "metadata": {},
   "outputs": [
    {
     "data": {
      "text/plain": [
       "(29, 10)"
      ]
     },
     "execution_count": 43,
     "metadata": {},
     "output_type": "execute_result"
    }
   ],
   "source": [
    "# check output\n",
    "rows_to_drop.shape"
   ]
  },
  {
   "cell_type": "code",
   "execution_count": 44,
   "metadata": {
    "deletable": false,
    "editable": false,
    "nbgrader": {
     "cell_type": "code",
     "checksum": "19f7b10ad9489c85fa87619e91607cf5",
     "grade": true,
     "grade_id": "cell-1fe471d877a8f859",
     "locked": true,
     "points": 0.2,
     "schema_version": 3,
     "solution": false
    }
   },
   "outputs": [],
   "source": [
    "assert isinstance(rows_to_drop, pd.DataFrame)\n",
    "assert rows_to_drop.shape == (29, 10)"
   ]
  },
  {
   "cell_type": "markdown",
   "metadata": {
    "deletable": false,
    "editable": false,
    "nbgrader": {
     "cell_type": "markdown",
     "checksum": "4445b1ebe03c91c590a72b42991af8a7",
     "grade": false,
     "grade_id": "cell-3315a8862e040169",
     "locked": true,
     "schema_version": 3,
     "solution": false
    }
   },
   "source": [
    "In the cell below, briefly explain below how `df[df.isnull().any(axis=1)]` works, in a couple sentences. \n",
    "\n",
    "Include an explanation of what `any(axis=1)` means and how it affects the code."
   ]
  },
  {
   "cell_type": "markdown",
   "metadata": {},
   "source": [
    "WRITE YOUR ANSWER HERE\n",
    "\n",
    "df[df.isnull().any(axis=1)] checks the array for any missing NAN data, any axis=1 will be selected to check for at least one NaN."
   ]
  },
  {
   "cell_type": "markdown",
   "metadata": {
    "deletable": false,
    "editable": false,
    "nbgrader": {
     "cell_type": "markdown",
     "checksum": "1b59fb6fe9c4970b6c9aaa376aa4d017",
     "grade": false,
     "grade_id": "cell-07430f641017036f",
     "locked": true,
     "schema_version": 3,
     "solution": false
    }
   },
   "source": [
    "Run the following cell and look at its output, but you don't need to add any code here.\n",
    "\n",
    "Real world data are messy. As an example of it, we consider the data shown in `rows_to_drop` (below).\n",
    "\n",
    "If you've done everything correctly so far, you should see an unexpected response with emojis at index 357. These types of responses, although funny, are hard to parse when dealing with big datasets. \n",
    "\n",
    "We'll learn about solutions to these types of problems in the upcoming cells."
   ]
  },
  {
   "cell_type": "code",
   "execution_count": 45,
   "metadata": {},
   "outputs": [
    {
     "data": {
      "text/html": [
       "<div>\n",
       "<style scoped>\n",
       "    .dataframe tbody tr th:only-of-type {\n",
       "        vertical-align: middle;\n",
       "    }\n",
       "\n",
       "    .dataframe tbody tr th {\n",
       "        vertical-align: top;\n",
       "    }\n",
       "\n",
       "    .dataframe thead th {\n",
       "        text-align: right;\n",
       "    }\n",
       "</style>\n",
       "<table border=\"1\" class=\"dataframe\">\n",
       "  <thead>\n",
       "    <tr style=\"text-align: right;\">\n",
       "      <th></th>\n",
       "      <th>timestamp</th>\n",
       "      <th>year</th>\n",
       "      <th>major</th>\n",
       "      <th>age</th>\n",
       "      <th>gender</th>\n",
       "      <th>height</th>\n",
       "      <th>weight</th>\n",
       "      <th>eye_color</th>\n",
       "      <th>born_in_CA</th>\n",
       "      <th>favorite_icecream</th>\n",
       "    </tr>\n",
       "  </thead>\n",
       "  <tbody>\n",
       "    <tr>\n",
       "      <th>29</th>\n",
       "      <td>1/9/18 14:50</td>\n",
       "      <td>senior</td>\n",
       "      <td>math&amp;econ</td>\n",
       "      <td>20.0</td>\n",
       "      <td>female</td>\n",
       "      <td>170</td>\n",
       "      <td>130</td>\n",
       "      <td>black</td>\n",
       "      <td>No</td>\n",
       "      <td>NaN</td>\n",
       "    </tr>\n",
       "    <tr>\n",
       "      <th>38</th>\n",
       "      <td>1/9/18 14:50</td>\n",
       "      <td>3rd</td>\n",
       "      <td>Computer Engineering</td>\n",
       "      <td>21.0</td>\n",
       "      <td>Female</td>\n",
       "      <td>NaN</td>\n",
       "      <td>NaN</td>\n",
       "      <td>Brown</td>\n",
       "      <td>No</td>\n",
       "      <td>NaN</td>\n",
       "    </tr>\n",
       "    <tr>\n",
       "      <th>49</th>\n",
       "      <td>1/9/18 14:50</td>\n",
       "      <td>NaN</td>\n",
       "      <td>Cog Sci</td>\n",
       "      <td>21.0</td>\n",
       "      <td>Female</td>\n",
       "      <td>NaN</td>\n",
       "      <td>NaN</td>\n",
       "      <td>Brown</td>\n",
       "      <td>Yes</td>\n",
       "      <td>Chocolate</td>\n",
       "    </tr>\n",
       "    <tr>\n",
       "      <th>58</th>\n",
       "      <td>1/9/18 14:50</td>\n",
       "      <td>3rd</td>\n",
       "      <td>Computer Science</td>\n",
       "      <td>20.0</td>\n",
       "      <td>Female</td>\n",
       "      <td>5ft 2in</td>\n",
       "      <td>NaN</td>\n",
       "      <td>brown</td>\n",
       "      <td>No</td>\n",
       "      <td>cookies and cream</td>\n",
       "    </tr>\n",
       "    <tr>\n",
       "      <th>66</th>\n",
       "      <td>1/9/18 14:50</td>\n",
       "      <td>Sophomore</td>\n",
       "      <td>Cognitive Science - Design and Interaction</td>\n",
       "      <td>19.0</td>\n",
       "      <td>Female</td>\n",
       "      <td>5'5</td>\n",
       "      <td>NaN</td>\n",
       "      <td>Brown</td>\n",
       "      <td>No</td>\n",
       "      <td>Chubby hubby ben and jerrys</td>\n",
       "    </tr>\n",
       "    <tr>\n",
       "      <th>67</th>\n",
       "      <td>1/9/18 14:50</td>\n",
       "      <td>2</td>\n",
       "      <td>Computer Science</td>\n",
       "      <td>19.0</td>\n",
       "      <td>Male</td>\n",
       "      <td>NaN</td>\n",
       "      <td>170</td>\n",
       "      <td>Brown</td>\n",
       "      <td>Yes</td>\n",
       "      <td>Chocolate</td>\n",
       "    </tr>\n",
       "    <tr>\n",
       "      <th>83</th>\n",
       "      <td>1/9/18 14:50</td>\n",
       "      <td>Senior</td>\n",
       "      <td>Computer Science</td>\n",
       "      <td>22.0</td>\n",
       "      <td>Male</td>\n",
       "      <td>5'11</td>\n",
       "      <td>155 lb</td>\n",
       "      <td>dark brown</td>\n",
       "      <td>No</td>\n",
       "      <td>NaN</td>\n",
       "    </tr>\n",
       "    <tr>\n",
       "      <th>91</th>\n",
       "      <td>1/9/18 14:50</td>\n",
       "      <td>Third</td>\n",
       "      <td>Computer Science</td>\n",
       "      <td>21.0</td>\n",
       "      <td>Female</td>\n",
       "      <td>NaN</td>\n",
       "      <td>NaN</td>\n",
       "      <td>Black</td>\n",
       "      <td>No</td>\n",
       "      <td>Green tea</td>\n",
       "    </tr>\n",
       "    <tr>\n",
       "      <th>92</th>\n",
       "      <td>1/9/18 14:50</td>\n",
       "      <td>4</td>\n",
       "      <td>Computer Science</td>\n",
       "      <td>21.0</td>\n",
       "      <td>Female</td>\n",
       "      <td>5'5\"</td>\n",
       "      <td>NaN</td>\n",
       "      <td>Brown</td>\n",
       "      <td>Yes</td>\n",
       "      <td>Mint chip</td>\n",
       "    </tr>\n",
       "    <tr>\n",
       "      <th>133</th>\n",
       "      <td>1/9/18 14:50</td>\n",
       "      <td>2018</td>\n",
       "      <td>computer science</td>\n",
       "      <td>22.0</td>\n",
       "      <td>male</td>\n",
       "      <td>NaN</td>\n",
       "      <td>NaN</td>\n",
       "      <td>brown</td>\n",
       "      <td>No</td>\n",
       "      <td>NaN</td>\n",
       "    </tr>\n",
       "    <tr>\n",
       "      <th>140</th>\n",
       "      <td>1/9/18 14:50</td>\n",
       "      <td>Senior</td>\n",
       "      <td>Chemical Engineering</td>\n",
       "      <td>25.0</td>\n",
       "      <td>Female</td>\n",
       "      <td>5 ft 3</td>\n",
       "      <td>NaN</td>\n",
       "      <td>Black</td>\n",
       "      <td>No</td>\n",
       "      <td>Green tea</td>\n",
       "    </tr>\n",
       "    <tr>\n",
       "      <th>150</th>\n",
       "      <td>1/9/18 14:50</td>\n",
       "      <td>Second</td>\n",
       "      <td>Cognitive Science</td>\n",
       "      <td>19.0</td>\n",
       "      <td>Female</td>\n",
       "      <td>NaN</td>\n",
       "      <td>NaN</td>\n",
       "      <td>NaN</td>\n",
       "      <td>Yes</td>\n",
       "      <td>Cookies and Cream</td>\n",
       "    </tr>\n",
       "    <tr>\n",
       "      <th>159</th>\n",
       "      <td>1/9/18 14:50</td>\n",
       "      <td>Fourth</td>\n",
       "      <td>Cognitive Science</td>\n",
       "      <td>21.0</td>\n",
       "      <td>Female</td>\n",
       "      <td>NaN</td>\n",
       "      <td>NaN</td>\n",
       "      <td>Black</td>\n",
       "      <td>Yes</td>\n",
       "      <td>Sea salt cookies and cream</td>\n",
       "    </tr>\n",
       "    <tr>\n",
       "      <th>168</th>\n",
       "      <td>1/9/18 14:50</td>\n",
       "      <td>Second</td>\n",
       "      <td>Cogs sci</td>\n",
       "      <td>20.0</td>\n",
       "      <td>female</td>\n",
       "      <td>178</td>\n",
       "      <td>NaN</td>\n",
       "      <td>brown</td>\n",
       "      <td>No</td>\n",
       "      <td>green tea</td>\n",
       "    </tr>\n",
       "    <tr>\n",
       "      <th>181</th>\n",
       "      <td>1/9/18 14:50</td>\n",
       "      <td>Second</td>\n",
       "      <td>Computer science</td>\n",
       "      <td>18.0</td>\n",
       "      <td>Male</td>\n",
       "      <td>NaN</td>\n",
       "      <td>NaN</td>\n",
       "      <td>Brown</td>\n",
       "      <td>No</td>\n",
       "      <td>Cookies and cream</td>\n",
       "    </tr>\n",
       "    <tr>\n",
       "      <th>232</th>\n",
       "      <td>1/9/18 14:51</td>\n",
       "      <td>Second</td>\n",
       "      <td>Bioengineering</td>\n",
       "      <td>20.0</td>\n",
       "      <td>Male</td>\n",
       "      <td>1.7 m</td>\n",
       "      <td>70kg</td>\n",
       "      <td>Black</td>\n",
       "      <td>No</td>\n",
       "      <td>NaN</td>\n",
       "    </tr>\n",
       "    <tr>\n",
       "      <th>241</th>\n",
       "      <td>1/9/18 14:51</td>\n",
       "      <td>4th</td>\n",
       "      <td>Cogs Sci HCI</td>\n",
       "      <td>21.0</td>\n",
       "      <td>Female</td>\n",
       "      <td>5 feet 4 in</td>\n",
       "      <td>NaN</td>\n",
       "      <td>brown</td>\n",
       "      <td>Yes</td>\n",
       "      <td>Mint chocolate</td>\n",
       "    </tr>\n",
       "    <tr>\n",
       "      <th>249</th>\n",
       "      <td>1/9/18 14:51</td>\n",
       "      <td>2</td>\n",
       "      <td>Computer Science</td>\n",
       "      <td>20.0</td>\n",
       "      <td>Male</td>\n",
       "      <td>177cm</td>\n",
       "      <td>NaN</td>\n",
       "      <td>Brown</td>\n",
       "      <td>No</td>\n",
       "      <td>Mint</td>\n",
       "    </tr>\n",
       "    <tr>\n",
       "      <th>264</th>\n",
       "      <td>1/9/18 14:51</td>\n",
       "      <td>4</td>\n",
       "      <td>Computer Science</td>\n",
       "      <td>21.0</td>\n",
       "      <td>Female</td>\n",
       "      <td>164cm</td>\n",
       "      <td>NaN</td>\n",
       "      <td>Dark Brown</td>\n",
       "      <td>Yes</td>\n",
       "      <td>Vanilla</td>\n",
       "    </tr>\n",
       "    <tr>\n",
       "      <th>285</th>\n",
       "      <td>1/9/18 14:51</td>\n",
       "      <td>4</td>\n",
       "      <td>Molecular Biology</td>\n",
       "      <td>21.0</td>\n",
       "      <td>NaN</td>\n",
       "      <td>NaN</td>\n",
       "      <td>NaN</td>\n",
       "      <td>NaN</td>\n",
       "      <td>NaN</td>\n",
       "      <td>Green Tea</td>\n",
       "    </tr>\n",
       "    <tr>\n",
       "      <th>293</th>\n",
       "      <td>1/9/18 14:51</td>\n",
       "      <td>2nd</td>\n",
       "      <td>Computer Engineering</td>\n",
       "      <td>NaN</td>\n",
       "      <td>Male</td>\n",
       "      <td>10-May</td>\n",
       "      <td>160 pounds</td>\n",
       "      <td>Brown</td>\n",
       "      <td>Yes</td>\n",
       "      <td>NaN</td>\n",
       "    </tr>\n",
       "    <tr>\n",
       "      <th>304</th>\n",
       "      <td>1/9/18 14:51</td>\n",
       "      <td>3</td>\n",
       "      <td>Computer Science</td>\n",
       "      <td>20.0</td>\n",
       "      <td>Male</td>\n",
       "      <td>NaN</td>\n",
       "      <td>NaN</td>\n",
       "      <td>Brown</td>\n",
       "      <td>Yes</td>\n",
       "      <td>Strawberry</td>\n",
       "    </tr>\n",
       "    <tr>\n",
       "      <th>352</th>\n",
       "      <td>1/9/18 14:52</td>\n",
       "      <td>4th</td>\n",
       "      <td>Cognitive Science</td>\n",
       "      <td>21.0</td>\n",
       "      <td>Female</td>\n",
       "      <td>5’7’’</td>\n",
       "      <td>NaN</td>\n",
       "      <td>Brown</td>\n",
       "      <td>No</td>\n",
       "      <td>NaN</td>\n",
       "    </tr>\n",
       "    <tr>\n",
       "      <th>354</th>\n",
       "      <td>1/9/18 14:52</td>\n",
       "      <td>4</td>\n",
       "      <td>Cognitive Science - Machine Learning and Neura...</td>\n",
       "      <td>21.0</td>\n",
       "      <td>Nonbinary</td>\n",
       "      <td>5'5\"</td>\n",
       "      <td>120 lbs.</td>\n",
       "      <td>Brown</td>\n",
       "      <td>Yes</td>\n",
       "      <td>NaN</td>\n",
       "    </tr>\n",
       "    <tr>\n",
       "      <th>357</th>\n",
       "      <td>1/9/18 14:52</td>\n",
       "      <td>2</td>\n",
       "      <td>EECS</td>\n",
       "      <td>19.0</td>\n",
       "      <td>NaN</td>\n",
       "      <td>6.21</td>\n",
       "      <td>150</td>\n",
       "      <td>chocolate pudding</td>\n",
       "      <td>Yes</td>\n",
       "      <td>👌👀👌👀👌👀👌👀👌👀 good shit go౦ԁ sHit👌 thats ✔ some g...</td>\n",
       "    </tr>\n",
       "    <tr>\n",
       "      <th>376</th>\n",
       "      <td>1/9/18 14:52</td>\n",
       "      <td>1</td>\n",
       "      <td>MathCS</td>\n",
       "      <td>18.0</td>\n",
       "      <td>M</td>\n",
       "      <td>5 10</td>\n",
       "      <td>NaN</td>\n",
       "      <td>Brown</td>\n",
       "      <td>No</td>\n",
       "      <td>Matcha</td>\n",
       "    </tr>\n",
       "    <tr>\n",
       "      <th>381</th>\n",
       "      <td>1/9/18 14:52</td>\n",
       "      <td>second year</td>\n",
       "      <td>computer science</td>\n",
       "      <td>19.0</td>\n",
       "      <td>male</td>\n",
       "      <td>NaN</td>\n",
       "      <td>NaN</td>\n",
       "      <td>NaN</td>\n",
       "      <td>No</td>\n",
       "      <td>strawberry</td>\n",
       "    </tr>\n",
       "    <tr>\n",
       "      <th>402</th>\n",
       "      <td>1/9/18 14:53</td>\n",
       "      <td>4</td>\n",
       "      <td>Computer Science</td>\n",
       "      <td>21.0</td>\n",
       "      <td>Female</td>\n",
       "      <td>5'8\"</td>\n",
       "      <td>NaN</td>\n",
       "      <td>Brown</td>\n",
       "      <td>Yes</td>\n",
       "      <td>Strawberry</td>\n",
       "    </tr>\n",
       "    <tr>\n",
       "      <th>412</th>\n",
       "      <td>1/9/18 14:55</td>\n",
       "      <td>3</td>\n",
       "      <td>Computer Science</td>\n",
       "      <td>20.0</td>\n",
       "      <td>M</td>\n",
       "      <td>71in</td>\n",
       "      <td>NaN</td>\n",
       "      <td>Brown</td>\n",
       "      <td>Yes</td>\n",
       "      <td>NaN</td>\n",
       "    </tr>\n",
       "  </tbody>\n",
       "</table>\n",
       "</div>"
      ],
      "text/plain": [
       "        timestamp         year  \\\n",
       "29   1/9/18 14:50       senior   \n",
       "38   1/9/18 14:50          3rd   \n",
       "49   1/9/18 14:50          NaN   \n",
       "58   1/9/18 14:50          3rd   \n",
       "66   1/9/18 14:50    Sophomore   \n",
       "67   1/9/18 14:50            2   \n",
       "83   1/9/18 14:50       Senior   \n",
       "91   1/9/18 14:50        Third   \n",
       "92   1/9/18 14:50            4   \n",
       "133  1/9/18 14:50         2018   \n",
       "140  1/9/18 14:50       Senior   \n",
       "150  1/9/18 14:50       Second   \n",
       "159  1/9/18 14:50       Fourth   \n",
       "168  1/9/18 14:50       Second   \n",
       "181  1/9/18 14:50       Second   \n",
       "232  1/9/18 14:51       Second   \n",
       "241  1/9/18 14:51          4th   \n",
       "249  1/9/18 14:51            2   \n",
       "264  1/9/18 14:51            4   \n",
       "285  1/9/18 14:51            4   \n",
       "293  1/9/18 14:51          2nd   \n",
       "304  1/9/18 14:51            3   \n",
       "352  1/9/18 14:52          4th   \n",
       "354  1/9/18 14:52            4   \n",
       "357  1/9/18 14:52            2   \n",
       "376  1/9/18 14:52            1   \n",
       "381  1/9/18 14:52  second year   \n",
       "402  1/9/18 14:53            4   \n",
       "412  1/9/18 14:55            3   \n",
       "\n",
       "                                                 major   age     gender  \\\n",
       "29                                           math&econ  20.0     female   \n",
       "38                                Computer Engineering  21.0     Female   \n",
       "49                                             Cog Sci  21.0     Female   \n",
       "58                                    Computer Science  20.0     Female   \n",
       "66          Cognitive Science - Design and Interaction  19.0     Female   \n",
       "67                                    Computer Science  19.0       Male   \n",
       "83                                    Computer Science  22.0       Male   \n",
       "91                                    Computer Science  21.0     Female   \n",
       "92                                    Computer Science  21.0     Female   \n",
       "133                                   computer science  22.0       male   \n",
       "140                               Chemical Engineering  25.0     Female   \n",
       "150                                  Cognitive Science  19.0     Female   \n",
       "159                                  Cognitive Science  21.0     Female   \n",
       "168                                           Cogs sci  20.0     female   \n",
       "181                                   Computer science  18.0       Male   \n",
       "232                                    Bioengineering   20.0       Male   \n",
       "241                                       Cogs Sci HCI  21.0     Female   \n",
       "249                                  Computer Science   20.0       Male   \n",
       "264                                   Computer Science  21.0     Female   \n",
       "285                                 Molecular Biology   21.0        NaN   \n",
       "293                               Computer Engineering   NaN       Male   \n",
       "304                                   Computer Science  20.0       Male   \n",
       "352                                  Cognitive Science  21.0     Female   \n",
       "354  Cognitive Science - Machine Learning and Neura...  21.0  Nonbinary   \n",
       "357                                               EECS  19.0        NaN   \n",
       "376                                             MathCS  18.0          M   \n",
       "381                                   computer science  19.0       male   \n",
       "402                                   Computer Science  21.0     Female   \n",
       "412                                   Computer Science  20.0          M   \n",
       "\n",
       "          height      weight          eye_color born_in_CA  \\\n",
       "29           170         130              black         No   \n",
       "38           NaN         NaN              Brown         No   \n",
       "49           NaN         NaN              Brown        Yes   \n",
       "58       5ft 2in         NaN              brown         No   \n",
       "66           5'5         NaN              Brown         No   \n",
       "67           NaN         170              Brown        Yes   \n",
       "83          5'11      155 lb         dark brown         No   \n",
       "91           NaN         NaN              Black         No   \n",
       "92          5'5\"         NaN              Brown        Yes   \n",
       "133          NaN         NaN              brown         No   \n",
       "140       5 ft 3         NaN              Black         No   \n",
       "150          NaN         NaN                NaN        Yes   \n",
       "159          NaN         NaN              Black        Yes   \n",
       "168          178         NaN              brown         No   \n",
       "181          NaN         NaN              Brown         No   \n",
       "232        1.7 m        70kg              Black         No   \n",
       "241  5 feet 4 in         NaN              brown        Yes   \n",
       "249        177cm         NaN              Brown         No   \n",
       "264        164cm         NaN         Dark Brown        Yes   \n",
       "285          NaN         NaN                NaN        NaN   \n",
       "293       10-May  160 pounds              Brown        Yes   \n",
       "304          NaN         NaN              Brown        Yes   \n",
       "352        5’7’’         NaN              Brown         No   \n",
       "354         5'5\"    120 lbs.             Brown         Yes   \n",
       "357         6.21         150  chocolate pudding        Yes   \n",
       "376         5 10         NaN              Brown         No   \n",
       "381          NaN         NaN                NaN         No   \n",
       "402         5'8\"         NaN              Brown        Yes   \n",
       "412         71in         NaN              Brown        Yes   \n",
       "\n",
       "                                     favorite_icecream  \n",
       "29                                                 NaN  \n",
       "38                                                 NaN  \n",
       "49                                           Chocolate  \n",
       "58                                   cookies and cream  \n",
       "66                         Chubby hubby ben and jerrys  \n",
       "67                                           Chocolate  \n",
       "83                                                 NaN  \n",
       "91                                           Green tea  \n",
       "92                                           Mint chip  \n",
       "133                                                NaN  \n",
       "140                                          Green tea  \n",
       "150                                  Cookies and Cream  \n",
       "159                         Sea salt cookies and cream  \n",
       "168                                          green tea  \n",
       "181                                  Cookies and cream  \n",
       "232                                                NaN  \n",
       "241                                     Mint chocolate  \n",
       "249                                               Mint  \n",
       "264                                            Vanilla  \n",
       "285                                          Green Tea  \n",
       "293                                                NaN  \n",
       "304                                         Strawberry  \n",
       "352                                                NaN  \n",
       "354                                                NaN  \n",
       "357  👌👀👌👀👌👀👌👀👌👀 good shit go౦ԁ sHit👌 thats ✔ some g...  \n",
       "376                                             Matcha  \n",
       "381                                         strawberry  \n",
       "402                                         Strawberry  \n",
       "412                                                NaN  "
      ]
     },
     "execution_count": 45,
     "metadata": {},
     "output_type": "execute_result"
    }
   ],
   "source": [
    "rows_to_drop"
   ]
  },
  {
   "cell_type": "markdown",
   "metadata": {
    "deletable": false,
    "editable": false,
    "nbgrader": {
     "cell_type": "markdown",
     "checksum": "cc8d97ae5fbb4acc5de0df01b344b696",
     "grade": false,
     "grade_id": "cell-33af0ba718e81752",
     "locked": true,
     "schema_version": 3,
     "solution": false
    }
   },
   "source": [
    "### 1c) Drop the rows with NaN values\n",
    "\n",
    "Drop any rows with missing data, but only for the columns `major`, `height`, `gender` and `age`. These will be the data of primary interest for our analyses, so we drop missing data here. \n",
    "\n",
    "Note that there are other missing data (in other rows) but this is fine for our analyses, so we keep them. \n",
    "\n",
    "To do this, use the pandas `dropna` method, inplace, using the `subset` arguments to specify columns."
   ]
  },
  {
   "cell_type": "code",
   "execution_count": 46,
   "metadata": {
    "deletable": false,
    "nbgrader": {
     "cell_type": "code",
     "checksum": "2a078755d4375222bf593bcb34316bfd",
     "grade": false,
     "grade_id": "1c",
     "locked": false,
     "schema_version": 3,
     "solution": true
    }
   },
   "outputs": [],
   "source": [
    "# your code here\n",
    "df = df.dropna(subset = ['major', 'height', 'gender', 'age'])"
   ]
  },
  {
   "cell_type": "code",
   "execution_count": 47,
   "metadata": {
    "deletable": false,
    "editable": false,
    "nbgrader": {
     "cell_type": "code",
     "checksum": "2c4ebe6b715c9dab484599f5d8d7c3ca",
     "grade": true,
     "grade_id": "1c_ans",
     "locked": true,
     "points": 0.2,
     "schema_version": 3,
     "solution": false
    }
   },
   "outputs": [],
   "source": [
    "assert df.shape == (403, 10)"
   ]
  },
  {
   "cell_type": "markdown",
   "metadata": {
    "deletable": false,
    "editable": false,
    "nbgrader": {
     "cell_type": "markdown",
     "checksum": "0fbcbe1205263495e1c764097a811978",
     "grade": false,
     "grade_id": "cell-2b7366b65afc6bcc",
     "locked": true,
     "schema_version": 3,
     "solution": false
    }
   },
   "source": [
    "In the rest of Part 1, we will work on writing code, organized into functions that will allow us to transform similar respones into the same value. We will call this process: standardizing the data. \n",
    "\n",
    "The cell below provides an example for the kind of code you will need to write to answer this question. This example is separate from our actual data, and is a potential function we might use to standardize messy data - in this case, hypothetical data to the question 'What is your favourite major python version?'. \n",
    "\n",
    "Note some things used in this example that you need to use to standardize data:\n",
    "- string methods, such as `lower` and `strip` to transform strings\n",
    "- the `replace` string method, to replace a set of characters with something else\n",
    "- if/else statements that check what's in our string (number, letters, etc)\n",
    "- type casting, for example using `int()` to turn a variable into an integer\n",
    "- using `np.nan` (which stands for 'not a number') to denote missing or unknown data"
   ]
  },
  {
   "cell_type": "markdown",
   "metadata": {
    "deletable": false,
    "editable": false,
    "nbgrader": {
     "cell_type": "markdown",
     "checksum": "d0f98a120c2b6f4771a237997cbee5ca",
     "grade": false,
     "grade_id": "cell-cda3e6787ee48a04",
     "locked": true,
     "schema_version": 3,
     "solution": false
    }
   },
   "source": [
    "**Note**: For the following few cells you should run, read, and understand the code provided, but you don't have to add any code until Q1d."
   ]
  },
  {
   "cell_type": "markdown",
   "metadata": {
    "deletable": false,
    "editable": false,
    "nbgrader": {
     "cell_type": "markdown",
     "checksum": "2b573833a7240fad96b2c6cbd6c66ffb",
     "grade": false,
     "grade_id": "cell-3c5e3e0128fbe90b",
     "locked": true,
     "schema_version": 3,
     "solution": false
    }
   },
   "source": [
    "The line of code above shows us the different values we got, to the question 'What year (in school) are you?'.\n",
    "\n",
    "As you can tell, it is a <b>mess</b>!. For example, if you are a junior student, then you might have answered: 3, three, third, 3rd year, junior, junior year, Junior, etc. \n",
    "\n",
    "That is an issue. We want to be able to analyze this data and, in order to do this successfully, we need to all answers with the same meaning to be written in the same way. Therefore, we're gonna have to transform answers such as '3, third, 3rd, junior, etc' into a single possible value. We'll do this for all values that mean the same. "
   ]
  },
  {
   "cell_type": "code",
   "execution_count": 48,
   "metadata": {
    "deletable": false,
    "editable": false,
    "nbgrader": {
     "cell_type": "code",
     "checksum": "dbdf0178168d8d2f72776cf944275c8d",
     "grade": false,
     "grade_id": "cell-f17c3740350c93ec",
     "locked": true,
     "schema_version": 3,
     "solution": false
    }
   },
   "outputs": [
    {
     "name": "stdout",
     "output_type": "stream",
     "text": [
      "INPUT \t\t-\t OUTPUT\n",
      "version 3  \t-\t 3\n",
      "42         \t-\t nan\n",
      "2          \t-\t 2\n",
      "python 3   \t-\t 3\n",
      "nonsense-lolz \t-\t nan\n"
     ]
    }
   ],
   "source": [
    "def example_standardize_function(str_in):\n",
    "    '''Standardize data to the question 'what is your favorite major python version?'\n",
    "    \n",
    "    Parameters\n",
    "    ----------\n",
    "    str_in : string\n",
    "        A provided answer.\n",
    "        \n",
    "    Returns\n",
    "    -------\n",
    "    int_out : int or np.nan\n",
    "        A standardized integer response.\n",
    "    '''\n",
    "    \n",
    "    # Make the input all lowercase\n",
    "    str_in = str_in.lower()\n",
    "    \n",
    "    # Drop all whitespace\n",
    "    str_in = str_in.strip()\n",
    "    \n",
    "    # Replace things (and then strip again afterwords)\n",
    "    #  Note that the 'replace' replaces the first argument, with the second\n",
    "    #   The first argument does not need to be present in the string,\n",
    "    #    if it's not there 'replace' does nothing (but does not error), so the code moves on.\n",
    "    str_in = str_in.replace('version', '')\n",
    "    str_in = str_in.replace('python', '')\n",
    "    str_in = str_in.strip()\n",
    "    \n",
    "    # Cast to integer, if what's left seems appropriate\n",
    "    if str_in.isnumeric() and len(str_in) == 1:\n",
    "        out = int(str_in)\n",
    "    # Otherwise, consider input was probably ill-formed, return nan\n",
    "    else: \n",
    "        out = np.nan\n",
    "    \n",
    "    return out\n",
    "\n",
    "# Check how this function help standardize data:\n",
    "#  Example possible answers to the question 'What is your favourite major version of Python':\n",
    "print('INPUT', '\\t\\t-\\t', 'OUTPUT')\n",
    "for inp in ['version 3', '42', '2', 'python 3', 'nonsense-lolz']:\n",
    "    print('{:10s} \\t-\\t {:1.0f}'.format(inp, example_standardize_function(inp)))"
   ]
  },
  {
   "cell_type": "markdown",
   "metadata": {
    "deletable": false,
    "editable": false,
    "nbgrader": {
     "cell_type": "markdown",
     "checksum": "85e6586cf4ff972ed07652a7b0b3efef",
     "grade": false,
     "grade_id": "cell-ec7c94363479cbcb",
     "locked": true,
     "schema_version": 3,
     "solution": false
    }
   },
   "source": [
    "Now we have to standardize the data!\n",
    "\n",
    "Check all different values given for majors. It's a lot!"
   ]
  },
  {
   "cell_type": "code",
   "execution_count": 49,
   "metadata": {
    "deletable": false,
    "editable": false,
    "nbgrader": {
     "cell_type": "code",
     "checksum": "4035a70cc7534a4da00aa25935685e96",
     "grade": false,
     "grade_id": "cell-4121a97eb3f8c1f5",
     "locked": true,
     "schema_version": 3,
     "solution": false
    }
   },
   "outputs": [
    {
     "data": {
      "text/plain": [
       "array(['Cognitive Science', 'Computer Science', 'Cogs HCI',\n",
       "       'Cognitive Science w/ a specialization in Computation',\n",
       "       'International Studies', 'Computer Engineering',\n",
       "       'computer science', 'Chemical Engineering / Literature Writing',\n",
       "       'Cognitive Science w/ Specialization in Human Computer Interaction',\n",
       "       'Cognitive Science-- Machine Learning and Neural Computation ',\n",
       "       'Cse', 'Cognitive Science - Design and Interaction',\n",
       "       'cognitive science', 'CSE', 'Cog sci design interaction',\n",
       "       'Math CS', 'Electrical Engineering', 'math&econ',\n",
       "       'Cognitive Science spec/ HCI', 'Cognitive science', 'Math-CS',\n",
       "       'Data Science', 'Cognitive science ', 'Cognitive Science ',\n",
       "       'Math - CS ', 'Cognitive Science Human Computer Interaction',\n",
       "       'Cognitive Science with specialization in HCI ',\n",
       "       'Cognitive Science (HCI)', 'Probability & Statistics', 'Cog Sci',\n",
       "       'Cognitive Science - Machine Learning',\n",
       "       'Mathematics-computer science', 'Computer science ',\n",
       "       'Computer Science-Bioinformatics', 'Computer Scientist',\n",
       "       'Cognitive science (HCI)',\n",
       "       'Cogsci specializing in machine learning and neural computation ',\n",
       "       'cognitive science with specialization in machine learning and neural computation',\n",
       "       'Cogntive Science with emphasis on Clinical Aspects',\n",
       "       'Computer Science ', 'Cognitive Science ML&NC major, CSE minor',\n",
       "       'math-cs', 'Cognitive Science: Human-Computer Interaction',\n",
       "       'Political Science',\n",
       "       'Cognitive Science with a specialization in Neuroscience',\n",
       "       'Molecular Biology', 'Mathematics-Computer Science',\n",
       "       'Cognitive Science with a Specialization in Neuroscience ',\n",
       "       'Economics', 'computer engineering ',\n",
       "       'Cognitive Science with Specialization in Machine Learning and Neural Computation',\n",
       "       'Computer Engineering ', 'Economics ',\n",
       "       'Cognitive Science (Design & Interaction)',\n",
       "       'Cognitive Science Specialization in Design and Interaction',\n",
       "       'Cognitive Science w/ Focus on Human Computer Interaction', 'Math',\n",
       "       'Math-Computer Science',\n",
       "       'Cognitive Science with an emphasis in machine learning and neural computation',\n",
       "       'Math-Cs', 'Cogs Sci design specilization',\n",
       "       'Cognitive Science / HCI', 'Applied Mathematics', 'Applied math',\n",
       "       'Cognitive Science (Specialization in Design & Interaction)',\n",
       "       'MathCS', 'Chemical Engineering', 'Cogsci HCI',\n",
       "       'Cognitive Science-Design', 'cognitive science - hci',\n",
       "       'Computer science',\n",
       "       'Cognitive Science- Machine Learning & Neural Computation ',\n",
       "       'Bioinformatics', 'CogSci', 'Cognitive Science HCI',\n",
       "       'Cognitive Science in HCI', 'Cogs sci', 'Cogs machine learning',\n",
       "       'cogs hci', 'Bioinformatics ', 'Psychology',\n",
       "       'Math & Computer Science', 'Cog Sci HCI', 'MATH-CS',\n",
       "       'CogSci w/ Spec in HCI', 'Cogs Spec ML and NC',\n",
       "       'Probability and Statistics', 'Cognitive Neuroscience',\n",
       "       'Computer Science Engineer', 'Cogsci/HCI', 'CS',\n",
       "       'Physiology and neuroscience', 'Computer engineering ',\n",
       "       'Cognitive Science - HCI', 'Management Science',\n",
       "       'Cognit ive Science', 'Bioengineering ', 'ICAM & COGS',\n",
       "       'Cognitive Science with a Specialization in Human Cognition',\n",
       "       'cog sci', 'Cogs Sci HCI', 'Mathematics Computer Science ',\n",
       "       'Psychology and Cognitive Science ', 'Computer Engineer',\n",
       "       'Biochemistry and Cell Biology', 'Cognitive Science  ',\n",
       "       'Cognitive Science w/ HCI ', 'Cog Sci ',\n",
       "       'Cognitive science spec HCI', 'Cog sci',\n",
       "       'Cognitive Science (Machine Learning and Neural Computation)',\n",
       "       'Cognitive science neuroscience', 'CogSci specialization ML',\n",
       "       'Psychology Cognitive Science', 'Probability and statistics',\n",
       "       'Mathematics - Computer Science',\n",
       "       'Interdisciplinary Computing & the Arts',\n",
       "       'Cognitive Science - Neuroscience', 'Management Science ',\n",
       "       'Cognitive Science with a Specialization in Design and Interaction',\n",
       "       'MathCs', 'Cogs with specialization in HCI',\n",
       "       'Cognitive Science (with specialization in computation)', 'Cogs',\n",
       "       'COGS（ML）', 'Cognitive Science, Human-Computer Interaction',\n",
       "       'Cognitive Science specializing in Machine Learning and Computer Science double major',\n",
       "       'Cognitive Science - Specialization in Neuroscience.',\n",
       "       'Cognitive science machine learning and neural computation',\n",
       "       'Cognitive Science (Spec. Design and Interaction)',\n",
       "       'Machine Learning', 'Cognitive and Behavioral Neuroscience',\n",
       "       'Cog Sci, B.S and Poli Sci, B.A.', 'Human Computer Interaction',\n",
       "       'Electrical engineering', 'Linguistics',\n",
       "       'MathCS & CogsSci ML Double Major', 'bioinformatics',\n",
       "       'Cognitive science HCI',\n",
       "       'Cognitive Science- Human Computer Interaction',\n",
       "       'Cognitive Science - Machine Learning and Neural Computation',\n",
       "       'Cognitive science- design and interaction ',\n",
       "       'Cognitive Science- Neuroscience',\n",
       "       'Cognitive Science: Machine Learning & Neural Computation',\n",
       "       'Cognitive science specialized in machine learning and neural computetion',\n",
       "       'Cognitive Science with a Specialization in Machine Learning & Neural Computation ',\n",
       "       'Computer engineering', 'Neuroscience',\n",
       "       'General Linguistics and Cognitive Science (with Spec. in Clinical Aspects)',\n",
       "       'Cog Sci w/ specialization in Neuroscience', 'cs',\n",
       "       'COGS spc Machine Learning', 'COGS HCI ', 'Electrical engineer',\n",
       "       'Cognitive Science with specialization in Neuroscience ',\n",
       "       'Cognitive Science specializing in HCI',\n",
       "       'Cognitive Science: Neuroscience', 'computer science ',\n",
       "       'Cognitive Science specializing in Neuroscience ',\n",
       "       'CogSci Machine Learning', 'Bioengineering'], dtype=object)"
      ]
     },
     "execution_count": 49,
     "metadata": {},
     "output_type": "execute_result"
    }
   ],
   "source": [
    "df['major'].unique()"
   ]
  },
  {
   "cell_type": "markdown",
   "metadata": {
    "deletable": false,
    "editable": false,
    "nbgrader": {
     "cell_type": "markdown",
     "checksum": "409ff9b8fa01a208f87d9edfc244025f",
     "grade": false,
     "grade_id": "cell-0bccb2cd7c863c75",
     "locked": true,
     "schema_version": 3,
     "solution": false
    }
   },
   "source": [
    "We'll write a function performing some simple substring checking in order to group many responses together."
   ]
  },
  {
   "cell_type": "code",
   "execution_count": 50,
   "metadata": {
    "deletable": false,
    "editable": false,
    "nbgrader": {
     "cell_type": "code",
     "checksum": "0df7933f0b0878405618ca6484e44077",
     "grade": false,
     "grade_id": "cell-9385b62fe387df90",
     "locked": true,
     "schema_version": 3,
     "solution": false
    }
   },
   "outputs": [],
   "source": [
    "def standardize_major(string):\n",
    "    \n",
    "    string = string.lower()\n",
    "    string = string.strip()\n",
    "    \n",
    "    if 'cog' in string:\n",
    "        output = 'COGSCI'\n",
    "    elif 'computer' in string:\n",
    "        output = 'COMPSCI'\n",
    "    elif 'cs' in string:\n",
    "        output = 'COMPSCI'\n",
    "    elif 'math' in string:\n",
    "        output = 'MATH'\n",
    "    elif 'electrical' in string:\n",
    "        output = 'ECE'\n",
    "    elif 'bio' in string:\n",
    "        output = 'BIO'\n",
    "    elif 'chem' in string:\n",
    "        output = 'CHEM'\n",
    "    # Otherwise, if uncaught - keep as is\n",
    "    else:\n",
    "        output = string\n",
    "    \n",
    "    return output"
   ]
  },
  {
   "cell_type": "markdown",
   "metadata": {
    "deletable": false,
    "editable": false,
    "nbgrader": {
     "cell_type": "markdown",
     "checksum": "2090a47dc68390955302668b41bcfda9",
     "grade": false,
     "grade_id": "cell-bdc400e73e4ded53",
     "locked": true,
     "schema_version": 3,
     "solution": false
    }
   },
   "source": [
    "We then have to apply the transformation using the function we just defined."
   ]
  },
  {
   "cell_type": "code",
   "execution_count": 51,
   "metadata": {
    "deletable": false,
    "editable": false,
    "nbgrader": {
     "cell_type": "code",
     "checksum": "2a888a8e213df5e8c79bfbfde047e0d8",
     "grade": false,
     "grade_id": "cell-09d04f8d107994ce",
     "locked": true,
     "schema_version": 3,
     "solution": false
    }
   },
   "outputs": [],
   "source": [
    "df['major'] = df['major'].apply(standardize_major)"
   ]
  },
  {
   "cell_type": "markdown",
   "metadata": {
    "deletable": false,
    "editable": false,
    "nbgrader": {
     "cell_type": "markdown",
     "checksum": "d2ffe92e4e0df282b7dfca735f56092f",
     "grade": false,
     "grade_id": "cell-45fa4288b93a776e",
     "locked": true,
     "schema_version": 3,
     "solution": false
    }
   },
   "source": [
    "Previewing the results of the previous transformation.\n",
    "\n",
    "It looks a lot better, though it's not perfect, but we'll run with this."
   ]
  },
  {
   "cell_type": "code",
   "execution_count": 52,
   "metadata": {
    "deletable": false,
    "editable": false,
    "nbgrader": {
     "cell_type": "code",
     "checksum": "7fc6938d37ee15844aacb7f912d3722f",
     "grade": false,
     "grade_id": "cell-ebea1ef0aedc6e5e",
     "locked": true,
     "schema_version": 3,
     "solution": false
    }
   },
   "outputs": [
    {
     "data": {
      "text/plain": [
       "array(['COGSCI', 'COMPSCI', 'international studies', 'CHEM', 'ECE',\n",
       "       'MATH', 'data science', 'political science', 'BIO', 'psychology',\n",
       "       'physiology and neuroscience', 'management science',\n",
       "       'interdisciplinary computing & the arts', 'machine learning',\n",
       "       'neuroscience'], dtype=object)"
      ]
     },
     "execution_count": 52,
     "metadata": {},
     "output_type": "execute_result"
    }
   ],
   "source": [
    "df['major'].unique()"
   ]
  },
  {
   "cell_type": "markdown",
   "metadata": {
    "deletable": false,
    "editable": false,
    "nbgrader": {
     "cell_type": "markdown",
     "checksum": "59ea8032440d6ef8200776f5a500bad1",
     "grade": false,
     "grade_id": "cell-23811a6de901ba24",
     "locked": true,
     "schema_version": 3,
     "solution": false
    }
   },
   "source": [
    "### 1d) Standardize 'gender' function"
   ]
  },
  {
   "cell_type": "markdown",
   "metadata": {
    "deletable": false,
    "editable": false,
    "nbgrader": {
     "cell_type": "markdown",
     "checksum": "efeefdf5fe07ca34e06e5e2fb0c4170e",
     "grade": false,
     "grade_id": "cell-e81c26b20ffb78a5",
     "locked": true,
     "schema_version": 3,
     "solution": false
    }
   },
   "source": [
    "Next let's check the 'gender' column. \n",
    "\n",
    "Check the different responses received for gender, including how many of each response we have"
   ]
  },
  {
   "cell_type": "code",
   "execution_count": 53,
   "metadata": {
    "deletable": false,
    "editable": false,
    "nbgrader": {
     "cell_type": "code",
     "checksum": "9f0b167d2e6eb7d0992cf6cacdf326ed",
     "grade": false,
     "grade_id": "cell-a364c6969663170d",
     "locked": true,
     "schema_version": 3,
     "solution": false
    }
   },
   "outputs": [
    {
     "data": {
      "text/plain": [
       "Male           229\n",
       "Female          95\n",
       "female          26\n",
       "male            18\n",
       "F               10\n",
       "M                6\n",
       "Female           6\n",
       "Male             6\n",
       "Famale           1\n",
       "men              1\n",
       "MALE             1\n",
       "Rainbow          1\n",
       "Woman            1\n",
       "Transgender      1\n",
       "Nonbinary        1\n",
       "Name: gender, dtype: int64"
      ]
     },
     "execution_count": 53,
     "metadata": {},
     "output_type": "execute_result"
    }
   ],
   "source": [
    "# run this to see different gender input data\n",
    "df['gender'].value_counts()"
   ]
  },
  {
   "cell_type": "markdown",
   "metadata": {
    "deletable": false,
    "editable": false,
    "nbgrader": {
     "cell_type": "markdown",
     "checksum": "558da89fdc627d54ce9d6dd47ae9343c",
     "grade": false,
     "grade_id": "cell-887fecef5cfca1fe",
     "locked": true,
     "schema_version": 3,
     "solution": false
    }
   },
   "source": [
    "Using a similar approach to what we used for 'major', you'll write a `standardize_gender` function.\n",
    "\n",
    "To do this you'll:\n",
    "- convert all text to lowercase\n",
    "- use the string method `strip()` to remove leading and trailing characters from the gender value\n",
    "- use an `if/elif/else` to:\n",
    "    - output 'female' if the lowercale gender value is 'female', 'f', 'woman', 'famale',  or 'women'\n",
    "    - output 'male' if the lowercase gender value is 'male', 'm', 'man', or 'men'\n",
    "    - output 'nonbinary_or_trans' if the lowercase gender value is 'nonbinary' or 'transgender'\n",
    "    - output `np.nan` otherwise\n",
    "- return the output"
   ]
  },
  {
   "cell_type": "code",
   "execution_count": 54,
   "metadata": {
    "deletable": false,
    "nbgrader": {
     "cell_type": "code",
     "checksum": "435f0e081c5156e0c135fe4a931bce83",
     "grade": false,
     "grade_id": "cell-2720852762f49edd",
     "locked": false,
     "schema_version": 3,
     "solution": true
    }
   },
   "outputs": [],
   "source": [
    "# your code here\n",
    "def standardize_gender(strIn):\n",
    "    if type(strIn)==str:\n",
    "        strIn = strIn.lower()\n",
    "        strIn = strIn.strip()\n",
    "        \n",
    "    if strIn == 'female' or strIn == 'f' or strIn == 'woman' or strIn == 'famale' or strIn == 'women':\n",
    "        out = 'female'\n",
    "    elif strIn == 'male' or strIn == 'm' or strIn == 'man' or strIn == 'men':\n",
    "        out = 'male'\n",
    "    elif strIn == 'nonbinary' or strIn == 'transgender':\n",
    "        out = 'nonbinary_or_trans'\n",
    "    else:\n",
    "        out = np.nan\n",
    "        \n",
    "    return out\n",
    "    "
   ]
  },
  {
   "cell_type": "code",
   "execution_count": 55,
   "metadata": {
    "deletable": false,
    "editable": false,
    "nbgrader": {
     "cell_type": "code",
     "checksum": "ce2dbf7a43f6b3687a314850715a1ef3",
     "grade": true,
     "grade_id": "cell-a3748b058a2402f3",
     "locked": true,
     "points": 0.5,
     "schema_version": 3,
     "solution": false
    }
   },
   "outputs": [],
   "source": [
    "assert standardize_gender('f') == 'female'\n",
    "assert standardize_gender('male') == 'male'\n",
    "assert standardize_gender('Transgender') == 'nonbinary_or_trans'\n"
   ]
  },
  {
   "cell_type": "markdown",
   "metadata": {
    "deletable": false,
    "editable": false,
    "nbgrader": {
     "cell_type": "markdown",
     "checksum": "7a8fe284703d76ce58b374537c77a41b",
     "grade": false,
     "grade_id": "cell-037459867516ae1d",
     "locked": true,
     "schema_version": 3,
     "solution": false
    }
   },
   "source": [
    "### 1e) Transform 'gender' column\n",
    "\n",
    "Apply the transformation, meaning, use your function and standardize gender in `df`\n",
    "\n",
    "Then, drop any rows with missing gender information."
   ]
  },
  {
   "cell_type": "code",
   "execution_count": 56,
   "metadata": {
    "deletable": false,
    "nbgrader": {
     "cell_type": "code",
     "checksum": "acfcbf44fdd5c5f3398d3122052f7649",
     "grade": false,
     "grade_id": "cell-291cf93820c28b6d",
     "locked": false,
     "schema_version": 3,
     "solution": true
    }
   },
   "outputs": [],
   "source": [
    "# your code here\n",
    "df['gender'] = df['gender'].apply(standardize_gender)\n",
    "df['gender'].value_counts()\n",
    "df = df.dropna(subset = ['gender'])"
   ]
  },
  {
   "cell_type": "code",
   "execution_count": 57,
   "metadata": {
    "deletable": false,
    "editable": false,
    "nbgrader": {
     "cell_type": "code",
     "checksum": "9af8a0a4bac1adb4568ff7913b921e0b",
     "grade": false,
     "grade_id": "cell-17fff0622ea53c05",
     "locked": true,
     "schema_version": 3,
     "solution": false
    }
   },
   "outputs": [
    {
     "data": {
      "text/plain": [
       "array(['male', 'female', 'nonbinary_or_trans'], dtype=object)"
      ]
     },
     "execution_count": 57,
     "metadata": {},
     "output_type": "execute_result"
    }
   ],
   "source": [
    "# Check the results\n",
    "df['gender'].unique()"
   ]
  },
  {
   "cell_type": "code",
   "execution_count": 58,
   "metadata": {
    "deletable": false,
    "editable": false,
    "nbgrader": {
     "cell_type": "code",
     "checksum": "93ae6d036c56ae3ed4558b10edb9ac46",
     "grade": true,
     "grade_id": "cell-2c24bd8912a04a3f",
     "locked": true,
     "points": 0.1,
     "schema_version": 3,
     "solution": false
    }
   },
   "outputs": [],
   "source": [
    "assert len(df['gender'].unique()) == 3\n",
    "assert df.shape == (402, 10)"
   ]
  },
  {
   "cell_type": "markdown",
   "metadata": {
    "deletable": false,
    "editable": false,
    "nbgrader": {
     "cell_type": "markdown",
     "checksum": "631b081dac74624496e406499f76932f",
     "grade": false,
     "grade_id": "cell-5317cc3058c95ce0",
     "locked": true,
     "schema_version": 3,
     "solution": false,
     "task": false
    }
   },
   "source": [
    "### 1f) Unique values in `year` column\n",
    "Find, programatically, the number of unique responses in the 'year' column.\n",
    "\n",
    "Save the result in a variable named `num_unique_responses`. \n",
    "\n",
    "Hint: you can answer this question using the `unique` method, used above. "
   ]
  },
  {
   "cell_type": "code",
   "execution_count": 59,
   "metadata": {
    "deletable": false,
    "nbgrader": {
     "cell_type": "code",
     "checksum": "b764d636c49bde3c0f47d16e30b795cc",
     "grade": false,
     "grade_id": "cell-67b62cbc121b186a",
     "locked": false,
     "schema_version": 3,
     "solution": true
    }
   },
   "outputs": [],
   "source": [
    "# your code here\n",
    "num_unique_responses = df['year'].nunique()"
   ]
  },
  {
   "cell_type": "code",
   "execution_count": 60,
   "metadata": {
    "deletable": false,
    "editable": false,
    "nbgrader": {
     "cell_type": "code",
     "checksum": "dd245104d662b29b0eb49fe0351ee14b",
     "grade": true,
     "grade_id": "cell-5f6082fc06a61a10",
     "locked": true,
     "points": 0.1,
     "schema_version": 3,
     "solution": false
    }
   },
   "outputs": [],
   "source": [
    "assert num_unique_responses\n",
    "assert isinstance(num_unique_responses, int)\n"
   ]
  },
  {
   "cell_type": "code",
   "execution_count": 61,
   "metadata": {
    "deletable": false,
    "editable": false,
    "nbgrader": {
     "cell_type": "code",
     "checksum": "16d4f41f832456cbb5d2969cfc30a4a2",
     "grade": false,
     "grade_id": "cell-d0d60f556b961d79",
     "locked": true,
     "schema_version": 3,
     "solution": false
    }
   },
   "outputs": [
    {
     "data": {
      "text/plain": [
       "array(['4', '3', 'Third', '2', '3rd', '3rd year', '5th', 'Second',\n",
       "       '4th Year', '5', 'Senior', 'Junior', '2nd', '1', 'senior', 'third',\n",
       "       'first year', '4th', 'Yolanda', 'Junior ', 'Freshman', 'Sophomore',\n",
       "       '4th year', '6', 'second year', 'Third Year', '2nd year', 'First',\n",
       "       '5th (2nd year transfer)', '2018', 'last year', 'UCSD',\n",
       "       'Fifth Year', '2021', 'Fifth year', '3rd Year', '3rd year ',\n",
       "       'Second year', 'fourth year', 'First year', 'Sophmore',\n",
       "       'Second Year', 'Junior year', '2020', 'Fifth ', 'Sophomore ',\n",
       "       '2nd year ', '4th year ', '2nd Year', '4+', 'second', 'Fourth',\n",
       "       'Senior Year', '2nd (Sophomore)', 'Sixth', 'Senior ', ' 3rd Year',\n",
       "       'Fourth Year', 'Junior standing', 'Fourth year', 'Fifth',\n",
       "       'Third year', 'Sineor '], dtype=object)"
      ]
     },
     "execution_count": 61,
     "metadata": {},
     "output_type": "execute_result"
    }
   ],
   "source": [
    "# Print out all the different answers in 'year'\n",
    "df['year'].unique()"
   ]
  },
  {
   "cell_type": "markdown",
   "metadata": {
    "deletable": false,
    "editable": false,
    "nbgrader": {
     "cell_type": "markdown",
     "checksum": "42274baaaecb55d239375dcfc5df732e",
     "grade": false,
     "grade_id": "cell-2ade93f7d081f9c8",
     "locked": true,
     "schema_version": 3,
     "solution": false,
     "task": false
    }
   },
   "source": [
    "### 1g)  Standardize 'year' column\n",
    "\n",
    "Write a function named `standardize_year` that takes in as input a string and returns an integer.\n",
    "\n",
    "The function will do the following (in the order specified):\n",
    "\n",
    "Note that for these detailed instructions, each line corresponds to one line of code you need to write.\n",
    "\n",
    "- 1) convert all characters of the string into lowercase\n",
    "- 2) strip the string of all leading and trailing whitespace\n",
    "- 3) replace any occurences of 'first' with '1'\n",
    "- 4) replace any occurences of 'second' with '2'\n",
    "- 5) replace any occurences of 'third' with '3'\n",
    "- 6) replace any occurences of 'fourth' with '4'\n",
    "- 7) replace any occurences of 'fifth' with '5'\n",
    "- 8) replace any occurences of 'sixth' with '6'\n",
    "\n",
    "- 9) replace any occurences of 'freshman' with '1'\n",
    "- 10) replace any occurences of 'sophomore' with '2'\n",
    "- 11) replace any occurences of 'junior' with '3'\n",
    "- 12) replace any occurences of 'senior' with 4'\n",
    "- 13) replace any occurences of 'year' with '' (remove it from the string)\n",
    "\n",
    "- 14) replace any occurences of 'th' with '' (remove it from the string)\n",
    "- 15) replace any occurences of 'rd' with '' (remove it from the string)\n",
    "- 16) replace any occurences of 'nd' with '' (remove it from the string)\n",
    "- 17) strip the string of all leading and trailing whitespace (again)\n",
    "- 18) If the resulting string is a number and it is less than 10, then cast it into an integer and return that value\n",
    "- 19) Else return np.nan to symbolize that the student's response was not a valid entry\n",
    "\n",
    "HINTS: you will need to use the functions `lower()`, `strip()`, `isnumeric()` and `replace()`"
   ]
  },
  {
   "cell_type": "code",
   "execution_count": 62,
   "metadata": {
    "deletable": false,
    "nbgrader": {
     "cell_type": "code",
     "checksum": "5b91453a16a791d98c6e7b9bdb3515fc",
     "grade": false,
     "grade_id": "cell-0d5ebacd71733a00",
     "locked": false,
     "schema_version": 3,
     "solution": true
    }
   },
   "outputs": [],
   "source": [
    "# your code here\n",
    "def standardize_year(year):\n",
    "    year = year.lower()\n",
    "    year = year.strip()\n",
    "    \n",
    "    year = year.replace('first', '1')\n",
    "    year = year.replace('second', '2')\n",
    "    year = year.replace('third', '3')\n",
    "    year = year.replace('fourth','4')\n",
    "    year = year.replace('fifth','5')\n",
    "    year = year.replace('sixth','6')\n",
    "    year = year.replace('freshman','1')\n",
    "    year = year.replace('sophomore','2')\n",
    "    year = year.replace('second','2')\n",
    "    year = year.replace('junior','3')\n",
    "    year = year.replace('senior','4')\n",
    "    year = year.replace('year','')\n",
    "    year = year.replace('th','')\n",
    "    year = year.replace('rd','')\n",
    "    year = year.replace('nd','')\n",
    "    \n",
    "    year = year.strip()\n",
    "    if year.isnumeric() and int(year)<10:\n",
    "        output_year = int(year)\n",
    "    else:\n",
    "        output_year = np.nan\n",
    "        \n",
    "    return output_year"
   ]
  },
  {
   "cell_type": "code",
   "execution_count": 63,
   "metadata": {
    "deletable": false,
    "editable": false,
    "nbgrader": {
     "cell_type": "code",
     "checksum": "9d19d5ecff8eb12e766fe63506a3b94b",
     "grade": true,
     "grade_id": "cell-ba092cbd3aa73da8",
     "locked": true,
     "points": 0.5,
     "schema_version": 3,
     "solution": false
    }
   },
   "outputs": [],
   "source": [
    "assert standardize_year('2nd') == 2\n",
    "assert standardize_year('sophomore') == 2\n",
    "assert standardize_year('3rd year') == 3\n",
    "assert standardize_year('5th') == 5\n",
    "assert standardize_year('7    ') == 7\n",
    "assert standardize_year('randomText') is np.nan"
   ]
  },
  {
   "cell_type": "markdown",
   "metadata": {
    "deletable": false,
    "editable": false,
    "nbgrader": {
     "cell_type": "markdown",
     "checksum": "ba4227463510021cf8aa4e65369c9add",
     "grade": false,
     "grade_id": "cell-6f23d38ec683ed53",
     "locked": true,
     "schema_version": 3,
     "solution": false,
     "task": false
    }
   },
   "source": [
    "### 1h) Transform 'year' column\n",
    "\n",
    "Use `standardize_year` to transform the data in column 'What year (in school) are you?'.\n",
    "\n",
    "Hint: use the `apply` function AND remember to save your output inside the dataframe"
   ]
  },
  {
   "cell_type": "code",
   "execution_count": 64,
   "metadata": {},
   "outputs": [
    {
     "data": {
      "text/plain": [
       "array(['4', '3', 'Third', '2', '3rd', '3rd year', '5th', 'Second',\n",
       "       '4th Year', '5', 'Senior', 'Junior', '2nd', '1', 'senior', 'third',\n",
       "       'first year', '4th', 'Yolanda', 'Junior ', 'Freshman', 'Sophomore',\n",
       "       '4th year', '6', 'second year', 'Third Year', '2nd year', 'First',\n",
       "       '5th (2nd year transfer)', '2018', 'last year', 'UCSD',\n",
       "       'Fifth Year', '2021', 'Fifth year', '3rd Year', '3rd year ',\n",
       "       'Second year', 'fourth year', 'First year', 'Sophmore',\n",
       "       'Second Year', 'Junior year', '2020', 'Fifth ', 'Sophomore ',\n",
       "       '2nd year ', '4th year ', '2nd Year', '4+', 'second', 'Fourth',\n",
       "       'Senior Year', '2nd (Sophomore)', 'Sixth', 'Senior ', ' 3rd Year',\n",
       "       'Fourth Year', 'Junior standing', 'Fourth year', 'Fifth',\n",
       "       'Third year', 'Sineor '], dtype=object)"
      ]
     },
     "execution_count": 64,
     "metadata": {},
     "output_type": "execute_result"
    }
   ],
   "source": [
    "df['year'].unique()"
   ]
  },
  {
   "cell_type": "code",
   "execution_count": 65,
   "metadata": {
    "deletable": false,
    "nbgrader": {
     "cell_type": "code",
     "checksum": "bf2b89ec98f7063b134f6513575a2294",
     "grade": false,
     "grade_id": "cell-9e2b64ce81ef09c3",
     "locked": false,
     "schema_version": 3,
     "solution": true
    }
   },
   "outputs": [],
   "source": [
    "# your code here\n",
    "df['year'] = df['year'].apply(standardize_year)"
   ]
  },
  {
   "cell_type": "code",
   "execution_count": 66,
   "metadata": {
    "deletable": false,
    "editable": false,
    "nbgrader": {
     "cell_type": "code",
     "checksum": "422dd5c6b901f12de7c490abce0ffc47",
     "grade": true,
     "grade_id": "cell-e4c266be688ef4d8",
     "locked": true,
     "points": 0.1,
     "schema_version": 3,
     "solution": false
    }
   },
   "outputs": [],
   "source": [
    "assert len(df['year'].unique()) == 7"
   ]
  },
  {
   "cell_type": "markdown",
   "metadata": {
    "deletable": false,
    "editable": false,
    "nbgrader": {
     "cell_type": "markdown",
     "checksum": "baf6a7e3b4fa5877d9cc88d71768a853",
     "grade": false,
     "grade_id": "cell-5a3e9946608829bc",
     "locked": true,
     "schema_version": 3,
     "solution": false
    }
   },
   "source": [
    "Assuming that all is correct up to this point, the line below should show all values now found in `df['year']`. \n",
    "\n",
    "It should look a lot better. With this data, we can now make insightful analyses.\n",
    "\n",
    "You should see an array with elements 1,2,3,4,5,6 and nan (not necessarily in that order).\n",
    "\n",
    "Note that if you check the data type of this column, you'll see that pandas converts these numbers to `float`, even though the applied function returns `int`, because `np.nan` is considered a float. This is fine. "
   ]
  },
  {
   "cell_type": "code",
   "execution_count": 67,
   "metadata": {
    "deletable": false,
    "editable": false,
    "nbgrader": {
     "cell_type": "code",
     "checksum": "611352e9f978a01204275f161861f5eb",
     "grade": false,
     "grade_id": "cell-898e3b677a0502e1",
     "locked": true,
     "schema_version": 3,
     "solution": false
    }
   },
   "outputs": [
    {
     "data": {
      "text/plain": [
       "array([ 4.,  3.,  2.,  5.,  1., nan,  6.])"
      ]
     },
     "execution_count": 67,
     "metadata": {},
     "output_type": "execute_result"
    }
   ],
   "source": [
    "df['year'].unique()"
   ]
  },
  {
   "cell_type": "markdown",
   "metadata": {
    "deletable": false,
    "editable": false,
    "nbgrader": {
     "cell_type": "markdown",
     "checksum": "a8cab23272a975ecdff26c44de0fe880",
     "grade": false,
     "grade_id": "cell-4f6c1c2d7afe02e5",
     "locked": true,
     "schema_version": 3,
     "solution": false
    }
   },
   "source": [
    "Let's do it again. Let's take a look at the responses in the 'weight' column, and then standardize them."
   ]
  },
  {
   "cell_type": "code",
   "execution_count": 68,
   "metadata": {
    "deletable": false,
    "editable": false,
    "nbgrader": {
     "cell_type": "code",
     "checksum": "247789d4725c582be8ecc9c5055ff44c",
     "grade": false,
     "grade_id": "cell-8126a7f864448b93",
     "locked": true,
     "schema_version": 3,
     "solution": false,
     "task": false
    }
   },
   "outputs": [],
   "source": [
    "# First, ensure that all types are consistent, use strings\n",
    "df['weight'] = df['weight'].astype(str)"
   ]
  },
  {
   "cell_type": "code",
   "execution_count": 69,
   "metadata": {
    "deletable": false,
    "editable": false,
    "nbgrader": {
     "cell_type": "code",
     "checksum": "476cb816a36058f111363b404873c4f1",
     "grade": false,
     "grade_id": "cell-1da977c3f5a68607",
     "locked": true,
     "schema_version": 3,
     "solution": false
    }
   },
   "outputs": [
    {
     "data": {
      "text/plain": [
       "array(['147', '150', '74kg', '133', '160', '106 lb', '155', '170 pounds',\n",
       "       '170', '135', '115', '110', '167 lbs', '60kg', '136', '140', '120',\n",
       "       '78kg', '128 lbs', '220', '145lb', '180', '105', '160lbs', '130',\n",
       "       '177g', '125 pounds', '125', '210', '69kg', '165', '160 lbs',\n",
       "       '123', '135lbs', '112 pounds', '190', '145lbs', '150 lbs', 'nan',\n",
       "       '193lbs', '73kg', '133 lb', '107 pounds', '200', '240', '47kg',\n",
       "       '175', '120 lbs', '164', '110 lbs', '128lbs', '155 lb', '185',\n",
       "       '167', '84 kg', '113', '235', '128lb', '119 lbs', '110 lb', '72kg',\n",
       "       '122', '140 lbs', '70 kg', '165 pounds ', '128', '125 lb', '108',\n",
       "       '15', '215', '48kg', '52kg', '145', '185lbs. ', '230lb', '125 lbs',\n",
       "       '140 lb', '168lb', '100', '130 pounds', '124', '84kg', '119',\n",
       "       \"I don't know dude but heavy probably\", '103', '140lbs', '170lbs',\n",
       "       '155 lbs', '50kg', '190 lbs', '52 kg', '168lbs', '189', '168',\n",
       "       '76KG', '77kg', '181', '146', '156', '140 pounds', '128 lb',\n",
       "       '46kg', '140 lb ', '120 lb', '146lb', '169lb', '250', '130lb',\n",
       "       '146 Pounds', '58 kg', '173lb', '70kg', '56 kg', '190lb', 'Secret',\n",
       "       '66 kg', '134', '125lb', '155lbs', '145 lbs', '102 lbs', '67kg',\n",
       "       '51kg', '320', '142', '130 lbs.', '145 pounds', '119lb', '280',\n",
       "       '95kg', '175 lbs', '58lbs', '134 pounds', '129', '85kg', '152 lbs',\n",
       "       '138 pounds', '112', '141', '100lbs', '102 kbs', '98 lb', '88 kg',\n",
       "       '107 lb', '150lb', '145 lbs ', '205', '98lbs', '145 lb.',\n",
       "       '112 lbs', '106', '124pounds', '110 pounds', '82kg', \"6'1\",\n",
       "       '100 lbs', '300lbs', '45kg', '154', '122 pounds', '150 lb',\n",
       "       '120 lbs.', '155lb', '179lb', '130 lbs', '158', '116', '107 lbs',\n",
       "       '105 lbs', '179', '168 lb', '140lb', '76kg', '75', '145 lb',\n",
       "       '85 kg', '114', '105 pounds', '115 lbs', '85', '102', '85 lbs',\n",
       "       '63kg', '170 lbs.', '160 pounds', '185 lbs'], dtype=object)"
      ]
     },
     "execution_count": 69,
     "metadata": {},
     "output_type": "execute_result"
    }
   ],
   "source": [
    "# Check all the different answers we received\n",
    "df['weight'].unique()"
   ]
  },
  {
   "cell_type": "markdown",
   "metadata": {
    "deletable": false,
    "editable": false,
    "nbgrader": {
     "cell_type": "markdown",
     "checksum": "f5130964ff9152ea9b8e65baffd88dbe",
     "grade": false,
     "grade_id": "cell-f4c9e7b4bb62ded3",
     "locked": true,
     "schema_version": 3,
     "solution": false,
     "task": false
    }
   },
   "source": [
    "### 1i) Standardize 'weight' column \n",
    "\n",
    "Write a function named `standardize_weight` that takes in as input a string and returns an integer.\n",
    "\n",
    "The function will do the following (in the order specified):\n",
    "\n",
    "- 1) convert all characters of the string into lowercase\n",
    "- 2) strip the string of all leading and trailing whitespace\n",
    "- 3) replace any occurences of 'lbs' with '' (remove it from the string)\n",
    "- 4) replace any occurences of 'lb' with '' (remove it from the string)\n",
    "- 5) replace any occurences of 'pounds' with '' (remove it from the string)\n",
    "- 6) If the string contains the substring 'kg', then:\n",
    "    - 6.1) replace 'kg' with ''\n",
    "    - 6.2) strip the string of whitespace\n",
    "    - 6.3) cast the string into a float type using the function `float()`\n",
    "    - 6.4) multiply the resulting float by 2.2 (an approximate conversion of kilograms to pounds) \n",
    "- 7) `try` to return the `int` of your `string`. If it cannot, return `np.nan`. "
   ]
  },
  {
   "cell_type": "code",
   "execution_count": 70,
   "metadata": {
    "deletable": false,
    "nbgrader": {
     "cell_type": "code",
     "checksum": "b6848faf80914c1b5293ac0e45b306b9",
     "grade": false,
     "grade_id": "cell-95fed6ce419a8d85",
     "locked": false,
     "schema_version": 3,
     "solution": true
    }
   },
   "outputs": [],
   "source": [
    "# your code here\n",
    "def standardize_weight(weight):\n",
    "    weight = weight.lower()\n",
    "    weight = weight.strip()\n",
    "    \n",
    "    weight = weight.replace('lbs', '')\n",
    "    weight = weight.replace('lb', '')\n",
    "    weight = weight.replace('pounds', '')\n",
    "    if 'kg' in weight:\n",
    "        weight = weight.replace('kg', '')\n",
    "        weight = weight.strip()\n",
    "        weight = float(weight)\n",
    "        weight = 2.2 * weight\n",
    "        \n",
    "    try:\n",
    "        return int(weight)\n",
    "    except:\n",
    "        np.nan"
   ]
  },
  {
   "cell_type": "code",
   "execution_count": 71,
   "metadata": {
    "deletable": false,
    "editable": false,
    "nbgrader": {
     "cell_type": "code",
     "checksum": "ad700b33fd1f2ce0b5072a1b90fc3cb6",
     "grade": true,
     "grade_id": "cell-50d719bde09d79ca",
     "locked": true,
     "points": 0.5,
     "schema_version": 3,
     "solution": false
    }
   },
   "outputs": [],
   "source": [
    "assert standardize_weight('34 lbs') == 34\n",
    "assert standardize_weight('101 kg') == 222\n"
   ]
  },
  {
   "cell_type": "markdown",
   "metadata": {
    "deletable": false,
    "editable": false,
    "nbgrader": {
     "cell_type": "markdown",
     "checksum": "b78fc496d51a852357182b29b206d506",
     "grade": false,
     "grade_id": "cell-9c0682b207caca81",
     "locked": true,
     "schema_version": 3,
     "solution": false,
     "task": false
    }
   },
   "source": [
    "### 1j) Transform 'weight' column \n",
    "\n",
    "Use `standardize_weight` to transform the data in the 'weight' column.\n",
    "\n",
    "Hint: use the `apply` function AND remember to save your output inside the dataframe"
   ]
  },
  {
   "cell_type": "code",
   "execution_count": 72,
   "metadata": {
    "deletable": false,
    "nbgrader": {
     "cell_type": "code",
     "checksum": "d9b2ac5ab0f14080e352600b3db173eb",
     "grade": false,
     "grade_id": "cell-e359512e3c8a1667",
     "locked": false,
     "schema_version": 3,
     "solution": true
    }
   },
   "outputs": [],
   "source": [
    "# your code here\n",
    "df['weight'] = df['weight'].apply(standardize_weight)"
   ]
  },
  {
   "cell_type": "code",
   "execution_count": 73,
   "metadata": {
    "deletable": false,
    "editable": false,
    "nbgrader": {
     "cell_type": "code",
     "checksum": "68ef3b2c2b05a059e7ec746b5e09f190",
     "grade": true,
     "grade_id": "cell-aec6ff6de9a88081",
     "locked": true,
     "points": 0.1,
     "schema_version": 3,
     "solution": false
    }
   },
   "outputs": [],
   "source": [
    "assert df['weight'].unique().shape == (83,)"
   ]
  },
  {
   "cell_type": "markdown",
   "metadata": {
    "deletable": false,
    "editable": false,
    "nbgrader": {
     "cell_type": "markdown",
     "checksum": "60669a74e66a65eb69a9355971eb514f",
     "grade": false,
     "grade_id": "cell-0b4cc15bc5d0d5fc",
     "locked": true,
     "schema_version": 3,
     "solution": false
    }
   },
   "source": [
    "Now, let's see the result of our hard work. The code below should output all numbers (or nan)."
   ]
  },
  {
   "cell_type": "code",
   "execution_count": 74,
   "metadata": {
    "deletable": false,
    "editable": false,
    "nbgrader": {
     "cell_type": "code",
     "checksum": "1a8a7e074c4b9dfc8d3b5e81af0401a9",
     "grade": false,
     "grade_id": "cell-7597a3a13c682b42",
     "locked": true,
     "schema_version": 3,
     "solution": false
    }
   },
   "outputs": [
    {
     "data": {
      "text/plain": [
       "array([147., 150., 162., 133., 160., 106., 155., 170., 135., 115., 110.,\n",
       "       167., 132., 136., 140., 120., 171., 128., 220., 145., 180., 105.,\n",
       "       130.,  nan, 125., 210., 151., 165., 123., 112., 190., 193., 107.,\n",
       "       200., 240., 103., 175., 164., 185., 184., 113., 235., 119., 158.,\n",
       "       122., 154., 108.,  15., 215., 114., 230., 168., 100., 124., 189.,\n",
       "       169., 181., 146., 156., 101., 250., 127., 173., 134., 102., 320.,\n",
       "       142., 280., 209.,  58., 129., 187., 152., 138., 141.,  98., 205.,\n",
       "       300.,  99., 179., 116.,  75.,  85.])"
      ]
     },
     "execution_count": 74,
     "metadata": {},
     "output_type": "execute_result"
    }
   ],
   "source": [
    "df['weight'].unique()"
   ]
  },
  {
   "cell_type": "markdown",
   "metadata": {
    "deletable": false,
    "editable": false,
    "nbgrader": {
     "cell_type": "markdown",
     "checksum": "42688d8836aa49e8b8eba0e62d041699",
     "grade": false,
     "grade_id": "cell-a4aeb2f0805cd10f",
     "locked": true,
     "schema_version": 3,
     "solution": false
    }
   },
   "source": [
    "So far, you've gotten a taste of what it is like to deal with messy data. It's not easy, as you can tell. \n",
    "\n",
    "The last variable we need to standardize for the purposes of our analysis is 'height'. We will standardize that one for you.\n",
    "\n",
    "Do read the code below and try to understand what it is doing."
   ]
  },
  {
   "cell_type": "code",
   "execution_count": 75,
   "metadata": {
    "deletable": false,
    "editable": false,
    "nbgrader": {
     "cell_type": "code",
     "checksum": "d8d55f6b5d207a960fced9d19f79431b",
     "grade": false,
     "grade_id": "cell-ea232e3affe16d6f",
     "locked": true,
     "schema_version": 3,
     "solution": false
    }
   },
   "outputs": [
    {
     "data": {
      "text/plain": [
       "array(['5\\'8\"', \"5'8\", '181cm', '5’8', '5\\'10\"', '5\\'11\"', \"5'9\",\n",
       "       '5 ft, 3 in', \"5'10\", '180 cm', '5\\'3\"', '5\\'9\"', '5\\'2\"',\n",
       "       '5ft 5inches', '158cm', '5\\'7\"', '5 feet 8 inches', \"5'7''\",\n",
       "       \"5' 8'' \", '184cm', '5\\' 7\"', '6’2”', \"6'1''\", \"5'11\", '6\\'2\"',\n",
       "       \"5'4\", '170', '177cm', '5\\'6\"', '5’5', \"5'5\", \"6'2\", '171cm',\n",
       "       \"5' 5''\", \"5'2\", '5', \"5'7\", '5\\' 8\"', \"5'3\", '5 feet 7 inches',\n",
       "       '6’0', '5’3', '64 in', \"5' 7''\", '5ft 2in', '6\\'1\"', '66', '173cm',\n",
       "       '5’8”', '5 feet 2 in', '5 7', '6’', '5.4', '6 feet', '5’0”',\n",
       "       '1.6m', '5 ft 2 in', '5\\'1\"', '5’5”', \"5' 8''\", '6\\'4\"', '5\\'8.5\"',\n",
       "       '178 cm', '5\\'5\"', \"6'1\", '5”7’', '174cm', '71', \"5' 1\", '5\\' 6\"',\n",
       "       '5” 4’', '177 cm', '71 inches ', \"5'4''\", '5\\' 4\"', '5 foot 11',\n",
       "       \"5''2'\", '6 feet 0 inches', '67', '167cm', \"5'8''\", '168cm', '5\"8',\n",
       "       '5\\' 10\"', '6ft', '163 cm', '5 Feet 6 inches', '6.1', '5 foot 7',\n",
       "       '5 ft 3', '5 7\"', '5\\'4\"', '172 cm', '5-Jun', '5’ 6’’', '6’0”',\n",
       "       \"5'0\", '6 foot', '6’ 1”', '10-May', \"5'\", '5 ft 8 in',\n",
       "       '5 foot 11 inches', '6', '5’6”', '1.7 m', '178', '5 11', \"5'1\",\n",
       "       '5’4', '5 ft. 9 in', '170 cm ', '6 ft 1 in', '5’9', '5’ 10”',\n",
       "       '6\\' 1\"', '190cm', \"5'8 feet\", '6’q', '5 ft 7 in', '5 foot 10',\n",
       "       '5 foot 8 inches', '5’9”', '161cm', '5 ft', '5’ 5”', '6\\'3\"',\n",
       "       '5’10', '5’6', \"5' 10''\", \"5'11''\", '5 Feet 11 Inches', '5 foot 6',\n",
       "       \"6'3''\", '162 cm', '65in', '5’8.5”', \"5' 1''\", '185 cm',\n",
       "       '6 feet 1 in', '176cm', 'Secret', '5’11', '170 cm', '5 feet 4 in',\n",
       "       \"5'3''\", '5ft 7in', '67in', '5’1', '179cm', '160cm', '5\\'0\"',\n",
       "       \"5'6\", '5 ft 11 in', '164cm', '6 feet 0 inch', '5”6’', '4\\'11\"',\n",
       "       '65 inches', '175cm', '172cm', '189', \"165 cm/5'4'' feet\", '6\\'0\"',\n",
       "       '5ft 6in', '5\\' 6.5\"', '6\\' 1.5\"', '5’2”', '5 ft 8in',\n",
       "       '5 feet and 9 1/2 inches', '5.8', '6\\' 4\"', '5”4', '5 ft 2 in.',\n",
       "       '5’ 2”', '64 inches', '5 ft 3 inches', '5 feet 6 inches', '5’3”',\n",
       "       '5”6', \"6'0\", '186cm', '167', '5’10”', '5 8', '6`1``', '1.6meter',\n",
       "       '5 foot 3 inches', '5.9', '70', '5 ft 7', '5’7’’', '5’ 2',\n",
       "       '5 foot ', '5 ft 10 in', \"6'\", '4’11', \"5'0''\", '5foot 7inch',\n",
       "       '6ft in', '5’7', '5\\' 11\"', '5 10', '176', '5\\' 02\"', '5’1”',\n",
       "       '4’ 11”', '5’ 3.75”', '5 ft 4 in', '4’ 10”', '5 5', '71in', '6’1”'],\n",
       "      dtype=object)"
      ]
     },
     "execution_count": 75,
     "metadata": {},
     "output_type": "execute_result"
    }
   ],
   "source": [
    "# First, we'll look at the possible values for height\n",
    "df['height'].unique()"
   ]
  },
  {
   "cell_type": "markdown",
   "metadata": {
    "deletable": false,
    "editable": false,
    "nbgrader": {
     "cell_type": "markdown",
     "checksum": "a2937f5c33100f0ac89d15131916d8b5",
     "grade": false,
     "grade_id": "cell-402008f5370cda41",
     "locked": true,
     "schema_version": 3,
     "solution": false,
     "task": false
    }
   },
   "source": [
    "It seems like we'll have to handle different measurement systems. Ugh, ok...\n",
    "\n",
    "\n",
    "Let's write a function that converts all those values to inches."
   ]
  },
  {
   "cell_type": "code",
   "execution_count": 76,
   "metadata": {
    "deletable": false,
    "editable": false,
    "nbgrader": {
     "cell_type": "code",
     "checksum": "6dd74519073559a7a50cdc7b46d34bf4",
     "grade": false,
     "grade_id": "cell-c275572c89e5fca6",
     "locked": true,
     "schema_version": 3,
     "solution": false
    }
   },
   "outputs": [],
   "source": [
    "# convert all values to inches\n",
    "def standardize_height(string):\n",
    "    \n",
    "    orig = string\n",
    "    output = None\n",
    "    \n",
    "    # Basic string pre-processing\n",
    "    string = string.lower()\n",
    "    string = string.strip()\n",
    "    \n",
    "    string = string.replace('foot', 'ft')\n",
    "    string = string.replace('feet', 'ft')\n",
    "    string = string.replace('inches', 'in')\n",
    "    string = string.replace('inch', 'in')\n",
    "    string = string.replace('meters', 'm')\n",
    "    string = string.replace('meter', 'm')\n",
    "    string = string.replace('centimeters', 'cm')\n",
    "    string = string.replace('centimeter', 'cm')\n",
    "    string = string.replace(',', '')\n",
    "    string = string.strip()\n",
    "    \n",
    "    # CASE 1: string is written in the format FEET <DIVIDER> INCHES\n",
    "    dividers = [\"'\", \"ft\", \"’\", '”', '\"','`', \"-\", \"''\"]\n",
    "    \n",
    "    for divider in dividers:\n",
    "        \n",
    "        # Split it into its elements\n",
    "        elements = string.split(divider)\n",
    "\n",
    "        # If the divider creates two elements\n",
    "        if (len(elements) >= 2) and ((len(string) -1) != string.find(divider)):\n",
    "            feet = elements[0]\n",
    "            inch = elements[1] if elements[1] is not '' else '0'\n",
    "            \n",
    "            # Cleaning extranious symbols\n",
    "            for symbol in dividers:\n",
    "                feet = feet.replace(symbol, '')\n",
    "                inch = inch.replace(symbol, '')\n",
    "                inch = inch.replace('in','')\n",
    "            \n",
    "            # Removing whitespace\n",
    "            feet = feet.strip()\n",
    "            inch = inch.strip()\n",
    "            \n",
    "            # By this point, we expect 'feet' and 'inch' to be numeric\n",
    "            # If not...we ignore this case\n",
    "            if feet.replace('.', '').isnumeric() and inch.replace('.', '').isnumeric():\n",
    "                \n",
    "                # Converting feet to inches and adding it to the current inches\n",
    "                output = (float(feet) * 12) + float(inch)\n",
    "                break\n",
    "            \n",
    "    # CASE 2: string is written in the format FEET ft INCHES in \n",
    "    if ('ft' in string) and ('in' in string):\n",
    "        \n",
    "        # Split it into its elements\n",
    "        elements = string.split('ft')\n",
    "        feet = elements[0]\n",
    "        inch = elements[1]\n",
    "        \n",
    "        # Removing extraneous symbols and stripping whitespace\n",
    "        inch = inch.replace('inch', '')\n",
    "        inch = inch.replace('in', '')\n",
    "        feet = feet.strip()\n",
    "        inch = inch.strip()\n",
    "        \n",
    "        # By this point, we expect 'feet' and 'inch' to be numeric\n",
    "        # If not...we ignore this case\n",
    "        if feet.replace('.', '').isnumeric() and inch.replace('.', '').isnumeric():\n",
    "                \n",
    "            # Converting feet to inches and adding it to the current inches\n",
    "            output = (float(feet) * 12) + float(inch)\n",
    "        \n",
    "    # CASE 3: answer was given ONLY in cm\n",
    "    #  Convert to inches: approximately 0.39 inches in a meter\n",
    "    elif 'cm' in string:\n",
    "        centimeters = string.replace('cm', '')\n",
    "        centimeters = centimeters.strip()\n",
    "        \n",
    "        if centimeters.replace('.', '').isnumeric():\n",
    "            output = float(centimeters) * 0.39\n",
    "        \n",
    "    # CASE 4: answer was given ONLY in meters\n",
    "    #  Convert to inches: approximately 39 inches in a meter\n",
    "    elif 'm' in string:\n",
    "        \n",
    "        meters = string.replace('m', '')\n",
    "        meters = meters.strip()\n",
    "        \n",
    "        if meters.replace('.', '').isnumeric():\n",
    "            output = float(meters)*39\n",
    "        \n",
    "    # CASE 5: answer was given ONLY in feet\n",
    "    elif 'ft' in string:\n",
    "\n",
    "        feet = string.replace('ft', '')\n",
    "        feet = feet.strip()\n",
    "        \n",
    "        if feet.replace('.', '').isnumeric():\n",
    "            output = float(feet)*12\n",
    "    \n",
    "    # CASE 6: answer was given ONLY in inches\n",
    "    elif 'in' in string:\n",
    "        inches = string.replace('in', '')\n",
    "        inches = inches.strip()\n",
    "        \n",
    "        if inches.replace('.', '').isnumeric():\n",
    "            output = float(inches)\n",
    "        \n",
    "    # CASE 7: answer not covered by existing scenarios / was invalid. \n",
    "    #  Return NaN\n",
    "    if not output:\n",
    "        output = np.nan\n",
    "\n",
    "    return output"
   ]
  },
  {
   "cell_type": "code",
   "execution_count": 77,
   "metadata": {
    "deletable": false,
    "editable": false,
    "nbgrader": {
     "cell_type": "code",
     "checksum": "cb5ef8529107109dd0fe0017a65a76c8",
     "grade": false,
     "grade_id": "cell-fba0c212116f4fa0",
     "locked": true,
     "schema_version": 3,
     "solution": false
    }
   },
   "outputs": [],
   "source": [
    "# Applying the transformation and dropping invalid rows\n",
    "df['height'] = df['height'].apply(standardize_height)\n",
    "df = df.dropna(subset=['height'])"
   ]
  },
  {
   "cell_type": "code",
   "execution_count": 78,
   "metadata": {
    "deletable": false,
    "editable": false,
    "nbgrader": {
     "cell_type": "code",
     "checksum": "ecdf1a1a897f54038431dd12b7db537e",
     "grade": false,
     "grade_id": "cell-57f6d2bac3cd54b9",
     "locked": true,
     "schema_version": 3,
     "solution": false
    }
   },
   "outputs": [
    {
     "data": {
      "text/plain": [
       "array([68.  , 70.59, 70.  , 71.  , 69.  , 63.  , 70.2 , 62.  , 65.  ,\n",
       "       61.62, 67.  , 71.76, 74.  , 73.  , 64.  , 69.03, 66.  , 66.69,\n",
       "       72.  , 67.47, 60.  , 62.4 , 61.  , 76.  , 68.5 , 69.42, 67.86,\n",
       "       65.13, 65.52, 63.57, 67.08, 66.3 , 74.1 , 62.79, 75.  , 63.18,\n",
       "       72.15, 68.64, 69.81, 63.96, 59.  , 68.25, 66.5 , 73.5 , 72.54,\n",
       "       63.75, 58.  ])"
      ]
     },
     "execution_count": 78,
     "metadata": {},
     "output_type": "execute_result"
    }
   ],
   "source": [
    "# Check the height data, after applying our standardization\n",
    "df['height'].unique()"
   ]
  },
  {
   "cell_type": "code",
   "execution_count": 79,
   "metadata": {
    "deletable": false,
    "editable": false,
    "nbgrader": {
     "cell_type": "code",
     "checksum": "d3f9dca1e3cd28cd4d587a523d92ed3c",
     "grade": false,
     "grade_id": "cell-f89d49db32f46fe6",
     "locked": true,
     "schema_version": 3,
     "solution": false
    }
   },
   "outputs": [
    {
     "data": {
      "text/html": [
       "<div>\n",
       "<style scoped>\n",
       "    .dataframe tbody tr th:only-of-type {\n",
       "        vertical-align: middle;\n",
       "    }\n",
       "\n",
       "    .dataframe tbody tr th {\n",
       "        vertical-align: top;\n",
       "    }\n",
       "\n",
       "    .dataframe thead th {\n",
       "        text-align: right;\n",
       "    }\n",
       "</style>\n",
       "<table border=\"1\" class=\"dataframe\">\n",
       "  <thead>\n",
       "    <tr style=\"text-align: right;\">\n",
       "      <th></th>\n",
       "      <th>timestamp</th>\n",
       "      <th>year</th>\n",
       "      <th>major</th>\n",
       "      <th>age</th>\n",
       "      <th>gender</th>\n",
       "      <th>height</th>\n",
       "      <th>weight</th>\n",
       "      <th>eye_color</th>\n",
       "      <th>born_in_CA</th>\n",
       "      <th>favorite_icecream</th>\n",
       "    </tr>\n",
       "  </thead>\n",
       "  <tbody>\n",
       "    <tr>\n",
       "      <th>0</th>\n",
       "      <td>1/9/18 14:49</td>\n",
       "      <td>4.0</td>\n",
       "      <td>COGSCI</td>\n",
       "      <td>21</td>\n",
       "      <td>male</td>\n",
       "      <td>68.00</td>\n",
       "      <td>147.0</td>\n",
       "      <td>Brown</td>\n",
       "      <td>Yes</td>\n",
       "      <td>Vanilla</td>\n",
       "    </tr>\n",
       "    <tr>\n",
       "      <th>1</th>\n",
       "      <td>1/9/18 14:49</td>\n",
       "      <td>3.0</td>\n",
       "      <td>COGSCI</td>\n",
       "      <td>20</td>\n",
       "      <td>male</td>\n",
       "      <td>68.00</td>\n",
       "      <td>150.0</td>\n",
       "      <td>Brown</td>\n",
       "      <td>Yes</td>\n",
       "      <td>Cookies and Cream</td>\n",
       "    </tr>\n",
       "    <tr>\n",
       "      <th>2</th>\n",
       "      <td>1/9/18 14:49</td>\n",
       "      <td>3.0</td>\n",
       "      <td>COMPSCI</td>\n",
       "      <td>21</td>\n",
       "      <td>male</td>\n",
       "      <td>70.59</td>\n",
       "      <td>162.0</td>\n",
       "      <td>Black</td>\n",
       "      <td>Yes</td>\n",
       "      <td>Matcha</td>\n",
       "    </tr>\n",
       "    <tr>\n",
       "      <th>3</th>\n",
       "      <td>1/9/18 14:49</td>\n",
       "      <td>2.0</td>\n",
       "      <td>COGSCI</td>\n",
       "      <td>20</td>\n",
       "      <td>male</td>\n",
       "      <td>68.00</td>\n",
       "      <td>133.0</td>\n",
       "      <td>Brown</td>\n",
       "      <td>Yes</td>\n",
       "      <td>Cookies and Cream</td>\n",
       "    </tr>\n",
       "    <tr>\n",
       "      <th>4</th>\n",
       "      <td>1/9/18 14:49</td>\n",
       "      <td>3.0</td>\n",
       "      <td>COMPSCI</td>\n",
       "      <td>20</td>\n",
       "      <td>male</td>\n",
       "      <td>70.00</td>\n",
       "      <td>160.0</td>\n",
       "      <td>Brown</td>\n",
       "      <td>Yes</td>\n",
       "      <td>Cookies n' Cream</td>\n",
       "    </tr>\n",
       "  </tbody>\n",
       "</table>\n",
       "</div>"
      ],
      "text/plain": [
       "      timestamp  year    major  age gender  height  weight eye_color  \\\n",
       "0  1/9/18 14:49   4.0   COGSCI   21   male   68.00   147.0     Brown   \n",
       "1  1/9/18 14:49   3.0   COGSCI   20   male   68.00   150.0     Brown   \n",
       "2  1/9/18 14:49   3.0  COMPSCI   21   male   70.59   162.0     Black   \n",
       "3  1/9/18 14:49   2.0   COGSCI   20   male   68.00   133.0     Brown   \n",
       "4  1/9/18 14:49   3.0  COMPSCI   20   male   70.00   160.0     Brown   \n",
       "\n",
       "  born_in_CA  favorite_icecream  \n",
       "0        Yes            Vanilla  \n",
       "1        Yes  Cookies and Cream  \n",
       "2        Yes             Matcha  \n",
       "3        Yes  Cookies and Cream  \n",
       "4        Yes   Cookies n' Cream  "
      ]
     },
     "execution_count": 79,
     "metadata": {},
     "output_type": "execute_result"
    }
   ],
   "source": [
    "# Ensuring that the data types are correct - type cast age to int.\n",
    "df['age'] = df['age'].astype(np.int64)\n",
    "\n",
    "# Check out the data, after we've cleaned it!\n",
    "df.head()"
   ]
  },
  {
   "cell_type": "code",
   "execution_count": 80,
   "metadata": {
    "deletable": false,
    "editable": false,
    "nbgrader": {
     "cell_type": "code",
     "checksum": "05882cdb4539b110ffef3506452b055c",
     "grade": false,
     "grade_id": "cell-1c6f53e910ea33ba",
     "locked": true,
     "schema_version": 3,
     "solution": false
    }
   },
   "outputs": [],
   "source": [
    "# Check that the dataframe has the right number of rows\n",
    "#  If this doesn't pass - check your code in the section above.\n",
    "assert len(df) == 365"
   ]
  },
  {
   "cell_type": "markdown",
   "metadata": {
    "deletable": false,
    "editable": false,
    "nbgrader": {
     "cell_type": "markdown",
     "checksum": "6faaeaf74beca2a73156ca6453bda663",
     "grade": false,
     "grade_id": "part2",
     "locked": true,
     "schema_version": 3,
     "solution": false
    }
   },
   "source": [
    "## Part 2: Exploratory Data Vizualization (0.8 points)\n",
    "\n",
    "First, we need to do some exploratory data visualization, to get a feel for the data. \n",
    "\n",
    "For plotting questions, do not change or move the `plt.gcf()` lines. "
   ]
  },
  {
   "cell_type": "markdown",
   "metadata": {
    "deletable": false,
    "editable": false,
    "nbgrader": {
     "cell_type": "markdown",
     "checksum": "5ac652875436cb7c7776db4ad3c0f649",
     "grade": false,
     "grade_id": "cell-e68ae0bb38fa441b",
     "locked": true,
     "schema_version": 3,
     "solution": false
    }
   },
   "source": [
    "### 2a) Plot the data\n",
    "\n",
    "Using `scatter_matrix`, from `pandas`' `plotting` module to plot `df`. Assign it to a variable called `fig`.\n"
   ]
  },
  {
   "cell_type": "code",
   "execution_count": 81,
   "metadata": {
    "deletable": false,
    "nbgrader": {
     "cell_type": "code",
     "checksum": "debc5cc978123b674dca278f0dc86de2",
     "grade": false,
     "grade_id": "2a",
     "locked": false,
     "schema_version": 3,
     "solution": true
    }
   },
   "outputs": [
    {
     "data": {
      "image/png": "[encoded data removed]",
      "text/plain": [
       "<Figure size 432x288 with 16 Axes>"
      ]
     },
     "metadata": {},
     "output_type": "display_data"
    }
   ],
   "source": [
    "# your code here\n",
    "fig = pd.plotting.scatter_matrix(df)"
   ]
  },
  {
   "cell_type": "code",
   "execution_count": 82,
   "metadata": {
    "deletable": false,
    "editable": false,
    "nbgrader": {
     "cell_type": "code",
     "checksum": "fe4f33100de8bbac675e1361c2db896c",
     "grade": true,
     "grade_id": "2a_ans",
     "locked": true,
     "points": 0.2,
     "schema_version": 3,
     "solution": false
    }
   },
   "outputs": [],
   "source": [
    "assert np.all(fig)"
   ]
  },
  {
   "cell_type": "markdown",
   "metadata": {},
   "source": [
    "### 2b) Plot a bar chart showing the number of students in each major. \n",
    "\n",
    "Hint: \n",
    "- if using `seaborn`, you're looking to make a countplot\n",
    "- if using pandas, you can use `value_counts` to get the counts for each major. You can then use the `plot` method from `pandas` for plotting (You don't need `matplotlib`). \n"
   ]
  },
  {
   "cell_type": "code",
   "execution_count": 83,
   "metadata": {
    "deletable": false,
    "nbgrader": {
     "cell_type": "code",
     "checksum": "281ff5fb1db6faa3687a20b79ed79720",
     "grade": false,
     "grade_id": "2b",
     "locked": false,
     "schema_version": 3,
     "solution": true
    }
   },
   "outputs": [
    {
     "data": {
      "image/png": "[encoded data removed]",
      "text/plain": [
       "<Figure size 432x288 with 1 Axes>"
      ]
     },
     "metadata": {},
     "output_type": "display_data"
    }
   ],
   "source": [
    "# your code here\n",
    "barchart = df['major'].value_counts()\n",
    "f1 = barchart.plot.bar()\n",
    "f1 = plt.gcf()"
   ]
  },
  {
   "cell_type": "code",
   "execution_count": 84,
   "metadata": {
    "deletable": false,
    "editable": false,
    "nbgrader": {
     "cell_type": "code",
     "checksum": "8c75c1398e21162ab71e40415f6d845c",
     "grade": true,
     "grade_id": "2b_ans",
     "locked": true,
     "points": 0.2,
     "schema_version": 3,
     "solution": false
    }
   },
   "outputs": [],
   "source": [
    "assert f1.gca().has_data()"
   ]
  },
  {
   "cell_type": "markdown",
   "metadata": {
    "deletable": false,
    "editable": false,
    "nbgrader": {
     "cell_type": "markdown",
     "checksum": "18bb619d1e909b87a9d6195b7612eec3",
     "grade": false,
     "grade_id": "cell-be1e5d1de5431a66",
     "locked": true,
     "schema_version": 3,
     "solution": false,
     "task": false
    }
   },
   "source": [
    "### 2c) Plot a histogram of the height data for all students who wrote 'COGSCI' as their major.\n"
   ]
  },
  {
   "cell_type": "code",
   "execution_count": 85,
   "metadata": {
    "deletable": false,
    "nbgrader": {
     "cell_type": "code",
     "checksum": "340651d43a6af18235bc3c554d197a1a",
     "grade": false,
     "grade_id": "2c",
     "locked": false,
     "schema_version": 3,
     "solution": true
    }
   },
   "outputs": [
    {
     "data": {
      "image/png": "[encoded data removed]",
      "text/plain": [
       "<Figure size 432x288 with 1 Axes>"
      ]
     },
     "metadata": {},
     "output_type": "display_data"
    }
   ],
   "source": [
    "# your code here\n",
    "barchart2 = df.loc[df['major']=='COGSCI']['height']\n",
    "f2 = barchart2.plot.hist()\n",
    "f2 = plt.gcf()"
   ]
  },
  {
   "cell_type": "code",
   "execution_count": 86,
   "metadata": {
    "deletable": false,
    "editable": false,
    "nbgrader": {
     "cell_type": "code",
     "checksum": "0ff64e2b3d7875650ded7de7dcc204a4",
     "grade": true,
     "grade_id": "2c_ans",
     "locked": true,
     "points": 0.2,
     "schema_version": 3,
     "solution": false
    }
   },
   "outputs": [],
   "source": [
    "assert f2.gca().has_data()"
   ]
  },
  {
   "cell_type": "markdown",
   "metadata": {
    "deletable": false,
    "editable": false,
    "nbgrader": {
     "cell_type": "markdown",
     "checksum": "5f096cbdac25124e285bbd29737fdbfd",
     "grade": false,
     "grade_id": "cell-7c7a413d4ea349d1",
     "locked": true,
     "schema_version": 3,
     "solution": false,
     "task": false
    }
   },
   "source": [
    "### 2d) Plot a histogram of the height data for all students who wrote 'COMPSCI' as their major.\n"
   ]
  },
  {
   "cell_type": "code",
   "execution_count": 87,
   "metadata": {
    "deletable": false,
    "nbgrader": {
     "cell_type": "code",
     "checksum": "3f271f7a4e8f752a0d1953cadf51d0d9",
     "grade": false,
     "grade_id": "2d",
     "locked": false,
     "schema_version": 3,
     "solution": true
    }
   },
   "outputs": [
    {
     "data": {
      "image/png": "[encoded data removed]",
      "text/plain": [
       "<Figure size 432x288 with 1 Axes>"
      ]
     },
     "metadata": {},
     "output_type": "display_data"
    }
   ],
   "source": [
    "# your code here\n",
    "barchart3 = df.loc[df['major']=='COMPSCI']['height']\n",
    "f3 = barchart3.plot.hist()\n",
    "f3 = plt.gcf()"
   ]
  },
  {
   "cell_type": "code",
   "execution_count": 88,
   "metadata": {
    "deletable": false,
    "editable": false,
    "nbgrader": {
     "cell_type": "code",
     "checksum": "017fb08c0c2fdaf0365a428f719e83fc",
     "grade": true,
     "grade_id": "2d_ans",
     "locked": true,
     "points": 0.2,
     "schema_version": 3,
     "solution": false
    }
   },
   "outputs": [],
   "source": [
    "assert f3.gca().has_data()"
   ]
  },
  {
   "cell_type": "markdown",
   "metadata": {
    "deletable": false,
    "editable": false,
    "nbgrader": {
     "cell_type": "markdown",
     "checksum": "b1b2d51165bd3c01251d9be647c4fffa",
     "grade": false,
     "grade_id": "part3",
     "locked": true,
     "schema_version": 3,
     "solution": false
    }
   },
   "source": [
    "## Part 3: Exploring The Data (0.4 points)\n",
    "\n",
    "Beyond just plotting the data, we should check some other basic properties of the data. This serves both as a way to get a 'feel' for the data, and to look for any quirks or oddities about the data, that may indicate issues that need resolving. To do this, let's explore that data a bit (not limiting ourselves to only features that we plan to use - exploring the dataset as a whole can help us find any issues). \n",
    "\n",
    "Notes:\n",
    "- Your answers should NOT be pandas objects (Series or DataFrames), extract answers so the variables are ints, floats or strings (as appropriate).\n",
    "- You must answer these questions programmatically: do not count / check and hard code particular values."
   ]
  },
  {
   "cell_type": "markdown",
   "metadata": {
    "deletable": false,
    "editable": false,
    "nbgrader": {
     "cell_type": "markdown",
     "checksum": "8647b0c7e9fb9ba49b88935785dbf3ba",
     "grade": false,
     "grade_id": "cell-21723f7173e5b53d",
     "locked": true,
     "schema_version": 3,
     "solution": false,
     "task": false
    }
   },
   "source": [
    "### 3a) How many different majors are in the dataset?\n",
    "\n",
    "Calculate this programmatically, and save this number to a variable `n_majors`."
   ]
  },
  {
   "cell_type": "code",
   "execution_count": 89,
   "metadata": {
    "deletable": false,
    "nbgrader": {
     "cell_type": "code",
     "checksum": "94978e68b415da2e6fa988b9173f2924",
     "grade": false,
     "grade_id": "3a",
     "locked": false,
     "schema_version": 3,
     "solution": true
    }
   },
   "outputs": [],
   "source": [
    "# your code here\n",
    "n_majors = df['major'].nunique()"
   ]
  },
  {
   "cell_type": "code",
   "execution_count": 90,
   "metadata": {
    "deletable": false,
    "editable": false,
    "nbgrader": {
     "cell_type": "code",
     "checksum": "575f2ba62f2f96233d2a778c401e0330",
     "grade": true,
     "grade_id": "3a_ans",
     "locked": true,
     "points": 0.2,
     "schema_version": 3,
     "solution": false
    }
   },
   "outputs": [],
   "source": [
    "assert n_majors > 0 and n_majors < 25\n"
   ]
  },
  {
   "cell_type": "markdown",
   "metadata": {
    "deletable": false,
    "editable": false,
    "nbgrader": {
     "cell_type": "markdown",
     "checksum": "59409b65750b740ea84df3033e3c6689",
     "grade": false,
     "grade_id": "cell-5208bac9465b948f",
     "locked": true,
     "schema_version": 3,
     "solution": false,
     "task": false
    }
   },
   "source": [
    "### 3b) What is the range (max value - min value) of ages in the dataset?\n",
    "\n",
    "Calculate this programmatically and save this number to a variable `r_age`."
   ]
  },
  {
   "cell_type": "code",
   "execution_count": 91,
   "metadata": {
    "deletable": false,
    "nbgrader": {
     "cell_type": "code",
     "checksum": "96d2a492c3b6ba737b17101e4d6e1717",
     "grade": false,
     "grade_id": "3b",
     "locked": false,
     "schema_version": 3,
     "solution": true
    }
   },
   "outputs": [],
   "source": [
    "# your code here\n",
    "r_age = max(df['age']) - min(df['age'])"
   ]
  },
  {
   "cell_type": "code",
   "execution_count": 92,
   "metadata": {
    "deletable": false,
    "editable": false,
    "nbgrader": {
     "cell_type": "code",
     "checksum": "48dd7533dd0f31c8c3410edcec057062",
     "grade": true,
     "grade_id": "3b_ans",
     "locked": true,
     "points": 0.2,
     "schema_version": 3,
     "solution": false
    }
   },
   "outputs": [],
   "source": [
    "assert r_age > 0 and r_age < 50 \n"
   ]
  },
  {
   "cell_type": "markdown",
   "metadata": {
    "deletable": false,
    "editable": false,
    "nbgrader": {
     "cell_type": "markdown",
     "checksum": "104f6d4efe94a274ff31f4965bdb5bdb",
     "grade": false,
     "grade_id": "part5",
     "locked": true,
     "schema_version": 3,
     "solution": false
    }
   },
   "source": [
    "## Part 4: Data Analysis (4.15 points)\n",
    "\n",
    "Now let's analyze the data, to address our research question.\n",
    "\n",
    "For the purposes of this analysis, let's assume we need at least 75 students per major to analyze the height data. \n",
    "\n",
    "This means we are only going to use data from people who wrote 'COGSCI' or 'COMPSCI' as their major. \n"
   ]
  },
  {
   "cell_type": "markdown",
   "metadata": {
    "deletable": false,
    "editable": false,
    "nbgrader": {
     "cell_type": "markdown",
     "checksum": "fc85e9a74d7258dc118f2a3f4177300f",
     "grade": false,
     "grade_id": "cell-96a33d9737f14492",
     "locked": true,
     "schema_version": 3,
     "solution": false,
     "task": false
    }
   },
   "source": [
    "### 4a) Pull out the data we are going to use:\n",
    "\n",
    "Save the height data for all 'COGSCI' majors to a variable called `h_co`\n",
    "\n",
    "Save the height data for all 'COMPSCI' majors to a variable called `h_cs`"
   ]
  },
  {
   "cell_type": "code",
   "execution_count": 93,
   "metadata": {
    "deletable": false,
    "nbgrader": {
     "cell_type": "code",
     "checksum": "2ed16453d68b96bda9cb7641f9ff2452",
     "grade": false,
     "grade_id": "5a",
     "locked": false,
     "schema_version": 3,
     "solution": true
    }
   },
   "outputs": [],
   "source": [
    "# your code here\n",
    "h_co = df.loc[df['major']=='COGSCI']['height']\n",
    "h_cs = df.loc[df['major']=='COMPSCI']['height']"
   ]
  },
  {
   "cell_type": "code",
   "execution_count": 94,
   "metadata": {
    "deletable": false,
    "editable": false,
    "nbgrader": {
     "cell_type": "code",
     "checksum": "3633dae7f7d587be86e85a4a14d929d0",
     "grade": true,
     "grade_id": "5a_ans",
     "locked": true,
     "points": 0.4,
     "schema_version": 3,
     "solution": false
    }
   },
   "outputs": [],
   "source": [
    "assert np.all(h_co)\n",
    "assert np.all(h_cs)\n",
    "\n",
    "assert len(h_co) == 178\n",
    "assert len(h_cs) == 164"
   ]
  },
  {
   "cell_type": "markdown",
   "metadata": {
    "deletable": false,
    "editable": false,
    "nbgrader": {
     "cell_type": "markdown",
     "checksum": "b0e8a1099a4c34f643795cf5ddb4656e",
     "grade": false,
     "grade_id": "cell-831ea3304e6f7055",
     "locked": true,
     "schema_version": 3,
     "solution": false,
     "task": false
    }
   },
   "source": [
    "### 4b) What is the average (mean) height for students from each major?\n",
    "\n",
    "Calulate this programmatically and save these values to `avg_h_co` for COGSCI students, and `avg_h_cs` for COMPSCI students. \n"
   ]
  },
  {
   "cell_type": "code",
   "execution_count": 95,
   "metadata": {
    "deletable": false,
    "nbgrader": {
     "cell_type": "code",
     "checksum": "472bec968405f56e20b4d7af03eaed61",
     "grade": false,
     "grade_id": "5b",
     "locked": false,
     "schema_version": 3,
     "solution": true
    }
   },
   "outputs": [],
   "source": [
    "# your code here\n",
    "avg_h_co = h_co.mean()\n",
    "avg_h_cs = h_cs.mean()"
   ]
  },
  {
   "cell_type": "code",
   "execution_count": 96,
   "metadata": {
    "deletable": false,
    "editable": false,
    "nbgrader": {
     "cell_type": "code",
     "checksum": "8a6ab5ad423c0453a5205cdf951c27d7",
     "grade": true,
     "grade_id": "5b_ans",
     "locked": true,
     "points": 0.4,
     "schema_version": 3,
     "solution": false
    }
   },
   "outputs": [],
   "source": [
    "assert avg_h_co\n",
    "assert avg_h_cs\n"
   ]
  },
  {
   "cell_type": "code",
   "execution_count": 97,
   "metadata": {
    "deletable": false,
    "editable": false,
    "nbgrader": {
     "cell_type": "code",
     "checksum": "02901d3f841cd12a9a19ab7878dfa788",
     "grade": false,
     "grade_id": "print_avgs",
     "locked": true,
     "schema_version": 3,
     "solution": false
    }
   },
   "outputs": [
    {
     "name": "stdout",
     "output_type": "stream",
     "text": [
      "Average height of cogs majors is \t 66.81 inches\n",
      "Average height of cs majors is \t\t 68.21 inches\n"
     ]
    }
   ],
   "source": [
    "# Print out the average heights - this code provided\n",
    "print('Average height of cogs majors is \\t {:2.2f} inches'.format(avg_h_co))\n",
    "print('Average height of cs majors is \\t\\t {:2.2f} inches'.format(avg_h_cs))"
   ]
  },
  {
   "cell_type": "markdown",
   "metadata": {
    "deletable": false,
    "editable": false,
    "nbgrader": {
     "cell_type": "markdown",
     "checksum": "cc8353ba524b264080920e0ca1ac2716",
     "grade": false,
     "grade_id": "ttest_instr",
     "locked": true,
     "schema_version": 3,
     "solution": false
    }
   },
   "source": [
    "Based on the cell above, it looks like there might indeed be a difference in the average height for students in cogs vs cs majors. \n",
    "\n",
    "Now we want to statistically test this difference. To do so, we will use a t-test. "
   ]
  },
  {
   "cell_type": "markdown",
   "metadata": {
    "deletable": false,
    "editable": false,
    "nbgrader": {
     "cell_type": "markdown",
     "checksum": "f6687c55cb49153163321c484485b14b",
     "grade": false,
     "grade_id": "cell-15bd33657efc9b21",
     "locked": true,
     "schema_version": 3,
     "solution": false,
     "task": false
    }
   },
   "source": [
    "### 4c) Compare distributions: t-test \n",
    "\n",
    "Use the `ttest_ind` function) to compare the two height distributions (`h_co` vs `h_cs`)\n",
    "\n",
    "`ttest_ind` returns a t-statistic, and a p-value. Save these outputs to `t_val` and `p_val` respectively. \n"
   ]
  },
  {
   "cell_type": "code",
   "execution_count": 99,
   "metadata": {
    "deletable": false,
    "nbgrader": {
     "cell_type": "code",
     "checksum": "a03336219ac3afaf92686837cd53f4cf",
     "grade": false,
     "grade_id": "5c",
     "locked": false,
     "schema_version": 3,
     "solution": true
    }
   },
   "outputs": [],
   "source": [
    "# your code here\n",
    "ttest_ind(h_co, h_cs)\n",
    "t_val = -3.3819815390971053\n",
    "p_val = 0.0008034981034180928"
   ]
  },
  {
   "cell_type": "code",
   "execution_count": 100,
   "metadata": {
    "deletable": false,
    "editable": false,
    "nbgrader": {
     "cell_type": "code",
     "checksum": "96cd9d5c49375f65eea2928b16f7b9f8",
     "grade": true,
     "grade_id": "5c_ans",
     "locked": true,
     "points": 0.4,
     "schema_version": 3,
     "solution": false
    }
   },
   "outputs": [],
   "source": [
    "assert t_val\n",
    "assert p_val\n"
   ]
  },
  {
   "cell_type": "code",
   "execution_count": 101,
   "metadata": {
    "deletable": false,
    "editable": false,
    "nbgrader": {
     "cell_type": "code",
     "checksum": "f964dc9faf81a9bcd9e5d145a80c3a42",
     "grade": false,
     "grade_id": "print_p",
     "locked": true,
     "schema_version": 3,
     "solution": false
    }
   },
   "outputs": [
    {
     "name": "stdout",
     "output_type": "stream",
     "text": [
      "Data Science accomplished, there is a significant difference!\n"
     ]
    }
   ],
   "source": [
    "# Check if statistical test passes significance, using an alpha value of 0.01. This code provided.\n",
    "if p_val < 0.01:\n",
    "    print('Data Science accomplished, there is a significant difference!')\n",
    "else:\n",
    "    print('There is NOT a significant difference!')\n",
    "    \n",
    "# Editorial note:\n",
    "#  Chasing significant p-values as the goal itself is not actually a good way to do data (or any) science :)"
   ]
  },
  {
   "cell_type": "markdown",
   "metadata": {
    "deletable": false,
    "editable": false,
    "nbgrader": {
     "cell_type": "markdown",
     "checksum": "c8cb84a2233116ca33bb67b35728263f",
     "grade": false,
     "grade_id": "break",
     "locked": true,
     "schema_version": 3,
     "solution": false
    }
   },
   "source": [
    "Note: this test *should* pass significance. If it doesn't, double check your code up until this point.\n",
    "\n",
    "So - we've reached a conclusion! We're done right!?\n",
    "\n",
    "Nope. We have a first pass analysis, and an interim conclusion that happens to follow our hypothesis. \n",
    "\n",
    "Now let's try to break it. \n",
    "\n",
    "#### Let's explore some more\n",
    "\n",
    "You should always interrogate your findings, however they come out. What could be some alternate explanations, that would change our interpretations of the current analysis?\n",
    "\n",
    "In this case, we should be worried about confounding variables. We want to be able to say whether height relates to major specifically, but it could be the case that some other variable, that happens to differ between majors, better explains the differences in height. \n",
    "\n",
    "In this case, we also have data on gender. Let's check if differences in the gender ratio of the two majors can explain the difference in height. "
   ]
  },
  {
   "cell_type": "markdown",
   "metadata": {
    "deletable": false,
    "editable": false,
    "nbgrader": {
     "cell_type": "markdown",
     "checksum": "67c415dcfb9f8f99de17633a898ed977",
     "grade": false,
     "grade_id": "cell-2a5e5198cee762bd",
     "locked": true,
     "schema_version": 3,
     "solution": false,
     "task": false
    }
   },
   "source": [
    "### 4d) Digging Deeper\n",
    "\n",
    "Using `value_counts` from pandas, extract the number of 'male', 'female', and 'nonbinary_or_trans' individuals, separately for cogs and cs students. \n",
    "\n",
    "To do so:\n",
    "\n",
    "- select from the `df` each major, separately, extract the gender column, and use the `value_counts` method.\n",
    "- Save the counts for each gender for 'COGSCI' majors to a variable called `g_co`\n",
    "-  Save the counts for each gender for 'COMPSCI' majors to a variable called `g_cs`\n"
   ]
  },
  {
   "cell_type": "code",
   "execution_count": 104,
   "metadata": {
    "deletable": false,
    "nbgrader": {
     "cell_type": "code",
     "checksum": "38802b6f6f562272d7b11ef3c3fc3f5c",
     "grade": false,
     "grade_id": "5d",
     "locked": false,
     "schema_version": 3,
     "solution": true
    }
   },
   "outputs": [],
   "source": [
    "# your code here\n",
    "g_co = df[df['major']=='COGSCI']['gender'].value_counts()\n",
    "g_cs = df[df['major']=='COMPSCI']['gender'].value_counts()"
   ]
  },
  {
   "cell_type": "code",
   "execution_count": 105,
   "metadata": {
    "deletable": false,
    "editable": false,
    "nbgrader": {
     "cell_type": "code",
     "checksum": "abcf27c8f4ca51004fcf97fc6cacd042",
     "grade": true,
     "grade_id": "5d_ans",
     "locked": true,
     "points": 0.4,
     "schema_version": 3,
     "solution": false
    }
   },
   "outputs": [],
   "source": [
    "assert np.all(g_co)\n",
    "assert np.all(g_cs)\n",
    "\n",
    "assert g_co[0] == 91\n",
    "assert g_cs[1] == 38\n",
    "assert g_cs[2] == 1"
   ]
  },
  {
   "cell_type": "markdown",
   "metadata": {
    "deletable": false,
    "editable": false,
    "nbgrader": {
     "cell_type": "markdown",
     "checksum": "992a0fa33b56d950626aa5ff526ed3d9",
     "grade": false,
     "grade_id": "cell-005ade75480a9a49",
     "locked": true,
     "schema_version": 3,
     "solution": false,
     "task": false
    }
   },
   "source": [
    "### 4e) What is the ratio of women in each major? \n",
    "\n",
    "By ratio, we mean the proportion of students that are female, as a ratio. This will be a value between 0.0 and 1.0, calculated as #F / (#F + #M + #nonbinary_or_other) - done separately for each major\n",
    "\n",
    "You can use the `g_co` and `g_cs` variables to calculate these.\n",
    "\n",
    "Save the ratio of women in COGSCI to a variable `r_co`.\n",
    "\n",
    "Save the ratio of women in COMPSCI to a variable `r_cs`.\n",
    "\n",
    "Note: keep these numbers as ratios (they should be decimal numbers, less than 1).\n"
   ]
  },
  {
   "cell_type": "code",
   "execution_count": 106,
   "metadata": {
    "deletable": false,
    "nbgrader": {
     "cell_type": "code",
     "checksum": "1f3e0ffb07d17563c79faf1fc9c1292e",
     "grade": false,
     "grade_id": "5e",
     "locked": false,
     "schema_version": 3,
     "solution": true
    }
   },
   "outputs": [],
   "source": [
    "# your code here\n",
    "r_co = g_co[1] / (g_co[1] + g_co[0] + g_co[2])\n",
    "r_cs = g_cs[1] / (g_cs[1] + g_cs[0] + g_cs[2])"
   ]
  },
  {
   "cell_type": "code",
   "execution_count": 107,
   "metadata": {
    "deletable": false,
    "editable": false,
    "nbgrader": {
     "cell_type": "code",
     "checksum": "f37241e234217482446af4c50ab1ea46",
     "grade": true,
     "grade_id": "5e_ans",
     "locked": true,
     "points": 0.4,
     "schema_version": 3,
     "solution": false
    }
   },
   "outputs": [],
   "source": [
    "assert r_co\n",
    "assert r_cs\n"
   ]
  },
  {
   "cell_type": "markdown",
   "metadata": {
    "deletable": false,
    "editable": false,
    "nbgrader": {
     "cell_type": "markdown",
     "checksum": "bf7ccccc44f78653927f8b9836a0419b",
     "grade": false,
     "grade_id": "cell-22867438369c5a91",
     "locked": true,
     "schema_version": 3,
     "solution": false
    }
   },
   "source": [
    "Make sure you print out and check the values of these ratios. They seem pretty different.\n",
    "\n",
    "We can actually ask, using a chi-squared test, whether this difference in gender-ratio between the majors is signficantly different.\n",
    "\n",
    "Code to do this is provided below. "
   ]
  },
  {
   "cell_type": "markdown",
   "metadata": {
    "deletable": false,
    "editable": false,
    "nbgrader": {
     "cell_type": "markdown",
     "checksum": "218fb52cae941d1670477040930d29e9",
     "grade": false,
     "grade_id": "cell-f0779bb4a9f4e382",
     "locked": true,
     "schema_version": 3,
     "solution": false
    }
   },
   "source": [
    "Run a chi-squared test of the difference of ratios of categorical data between groups:\n"
   ]
  },
  {
   "cell_type": "code",
   "execution_count": 108,
   "metadata": {
    "deletable": false,
    "editable": false,
    "nbgrader": {
     "cell_type": "code",
     "checksum": "9417b7a73624e1945efcdd27d0fb71fb",
     "grade": false,
     "grade_id": "cell-9b13cd3bd898610e",
     "locked": true,
     "schema_version": 3,
     "solution": false
    }
   },
   "outputs": [
    {
     "name": "stdout",
     "output_type": "stream",
     "text": [
      "There is a significant difference in ratios!\n"
     ]
    }
   ],
   "source": [
    "chisq, p_val_chi = stats.chisquare(np.array([g_co.values, g_cs.values]), axis=None)\n",
    "\n",
    "if p_val_chi < 0.01:\n",
    "    print('There is a significant difference in ratios!')"
   ]
  },
  {
   "cell_type": "markdown",
   "metadata": {
    "deletable": false,
    "editable": false,
    "nbgrader": {
     "cell_type": "markdown",
     "checksum": "784dfad994ab7fbab18ef10d4032c93c",
     "grade": false,
     "grade_id": "cell-b802580bc6fded08",
     "locked": true,
     "schema_version": 3,
     "solution": false,
     "task": false
    }
   },
   "source": [
    "### 4f) Subsetting data\n",
    "\n",
    "Create a new dataframe, called `df2`, which only includes data from 'COGSCI' and 'COMPSCI' majors.\n",
    "\n",
    "Hint: you can do this using the or operater '|', with loc. \n"
   ]
  },
  {
   "cell_type": "code",
   "execution_count": 109,
   "metadata": {
    "deletable": false,
    "nbgrader": {
     "cell_type": "code",
     "checksum": "f3d04777f3a5ce24afee1e839ab59201",
     "grade": false,
     "grade_id": "5f",
     "locked": false,
     "schema_version": 3,
     "solution": true
    }
   },
   "outputs": [],
   "source": [
    "# your code here\n",
    "df2 = df[(df['major']=='COGSCI') | (df['major'] == 'COMPSCI')]"
   ]
  },
  {
   "cell_type": "code",
   "execution_count": 110,
   "metadata": {
    "deletable": false,
    "editable": false,
    "nbgrader": {
     "cell_type": "code",
     "checksum": "6b87cff6c890e7df4a28a957e6e720c6",
     "grade": true,
     "grade_id": "5f_ans",
     "locked": true,
     "points": 0.35,
     "schema_version": 3,
     "solution": false
    }
   },
   "outputs": [],
   "source": [
    "assert isinstance(df2, pd.DataFrame)\n",
    "assert df2.shape == (342, 10)\n",
    "assert set(df2['major']) == set(['COGSCI', 'COMPSCI'])"
   ]
  },
  {
   "cell_type": "markdown",
   "metadata": {
    "deletable": false,
    "editable": false,
    "nbgrader": {
     "cell_type": "markdown",
     "checksum": "b42da28cff2d8a04843ad8686383f04f",
     "grade": false,
     "grade_id": "cell-c30ad950ca774f38",
     "locked": true,
     "schema_version": 3,
     "solution": false,
     "task": false
    }
   },
   "source": [
    "### 4g) Pivot Tables\n",
    "\n",
    "Another way to look at these kinds of comparisons is pivot tables. \n",
    "\n",
    "Use the pandas `pivot_table` method to create a pivot table, assign it to a variable `pv`.\n",
    "\n",
    "Set the values as 'height', and the indices as 'gender' and 'major' in the pivot table.\n",
    "\n",
    "Make sure you do this using `df2`. \n"
   ]
  },
  {
   "cell_type": "code",
   "execution_count": 111,
   "metadata": {
    "deletable": false,
    "nbgrader": {
     "cell_type": "code",
     "checksum": "95c498d72743eaaa20aad512f40d2a57",
     "grade": false,
     "grade_id": "5g",
     "locked": false,
     "schema_version": 3,
     "solution": true
    }
   },
   "outputs": [],
   "source": [
    "# your code here\n",
    "pv = pd.pivot_table(df2, values='height', index=['gender', 'major'])"
   ]
  },
  {
   "cell_type": "code",
   "execution_count": 112,
   "metadata": {
    "deletable": false,
    "editable": false,
    "nbgrader": {
     "cell_type": "code",
     "checksum": "6bc94546e49eb90da00153db73e73cc6",
     "grade": true,
     "grade_id": "5g_ans",
     "locked": true,
     "points": 0.4,
     "schema_version": 3,
     "solution": false
    }
   },
   "outputs": [],
   "source": [
    "assert np.all(pv)\n",
    "assert isinstance(pv.index, pd.MultiIndex)\n"
   ]
  },
  {
   "cell_type": "markdown",
   "metadata": {
    "deletable": false,
    "editable": false,
    "nbgrader": {
     "cell_type": "markdown",
     "checksum": "8d7d9f2a4b0532c4c912320fdef5c78e",
     "grade": false,
     "grade_id": "cell-34914c58e810fba3",
     "locked": true,
     "schema_version": 3,
     "solution": false
    }
   },
   "source": [
    "Print out the pivot table you just created. \n",
    "\n",
    "Compare the average height values, split up by major and gender.\n",
    "\n",
    "Does it look like there are differences in heights by major, when spit up by gender?\n"
   ]
  },
  {
   "cell_type": "code",
   "execution_count": 113,
   "metadata": {
    "deletable": false,
    "editable": false,
    "nbgrader": {
     "cell_type": "code",
     "checksum": "a466723843760d4937924a8f728c816b",
     "grade": false,
     "grade_id": "print_pv",
     "locked": true,
     "schema_version": 3,
     "solution": false
    }
   },
   "outputs": [
    {
     "data": {
      "text/html": [
       "<div>\n",
       "<style scoped>\n",
       "    .dataframe tbody tr th:only-of-type {\n",
       "        vertical-align: middle;\n",
       "    }\n",
       "\n",
       "    .dataframe tbody tr th {\n",
       "        vertical-align: top;\n",
       "    }\n",
       "\n",
       "    .dataframe thead th {\n",
       "        text-align: right;\n",
       "    }\n",
       "</style>\n",
       "<table border=\"1\" class=\"dataframe\">\n",
       "  <thead>\n",
       "    <tr style=\"text-align: right;\">\n",
       "      <th></th>\n",
       "      <th></th>\n",
       "      <th>height</th>\n",
       "    </tr>\n",
       "    <tr>\n",
       "      <th>gender</th>\n",
       "      <th>major</th>\n",
       "      <th></th>\n",
       "    </tr>\n",
       "  </thead>\n",
       "  <tbody>\n",
       "    <tr>\n",
       "      <th rowspan=\"2\" valign=\"top\">female</th>\n",
       "      <th>COGSCI</th>\n",
       "      <td>63.743023</td>\n",
       "    </tr>\n",
       "    <tr>\n",
       "      <th>COMPSCI</th>\n",
       "      <td>64.061842</td>\n",
       "    </tr>\n",
       "    <tr>\n",
       "      <th rowspan=\"2\" valign=\"top\">male</th>\n",
       "      <th>COGSCI</th>\n",
       "      <td>69.734505</td>\n",
       "    </tr>\n",
       "    <tr>\n",
       "      <th>COMPSCI</th>\n",
       "      <td>69.502960</td>\n",
       "    </tr>\n",
       "    <tr>\n",
       "      <th rowspan=\"2\" valign=\"top\">nonbinary_or_trans</th>\n",
       "      <th>COGSCI</th>\n",
       "      <td>65.000000</td>\n",
       "    </tr>\n",
       "    <tr>\n",
       "      <th>COMPSCI</th>\n",
       "      <td>64.000000</td>\n",
       "    </tr>\n",
       "  </tbody>\n",
       "</table>\n",
       "</div>"
      ],
      "text/plain": [
       "                               height\n",
       "gender             major             \n",
       "female             COGSCI   63.743023\n",
       "                   COMPSCI  64.061842\n",
       "male               COGSCI   69.734505\n",
       "                   COMPSCI  69.502960\n",
       "nonbinary_or_trans COGSCI   65.000000\n",
       "                   COMPSCI  64.000000"
      ]
     },
     "execution_count": 113,
     "metadata": {},
     "output_type": "execute_result"
    }
   ],
   "source": [
    "pv"
   ]
  },
  {
   "cell_type": "markdown",
   "metadata": {
    "deletable": false,
    "editable": false,
    "nbgrader": {
     "cell_type": "markdown",
     "checksum": "b9dd4f8da2141cf1b0df0b16517753fa",
     "grade": false,
     "grade_id": "cell-53e9e3c26d67d758",
     "locked": true,
     "schema_version": 3,
     "solution": false
    }
   },
   "source": [
    "Let's recap where we are:\n",
    "- Our initial hypothesis suggested there is a significant difference between heights of people in different majors. \n",
    "- However, further analyses suggested there may be a confounding variable, as there is also a significantly different gender balance between majors. \n",
    "\n",
    "Checking the average height, per major, split up by gender, suggests there may not be a difference between major, other than what is explained by gender. \n",
    "\n",
    "Now we want to statistically ask this question: is there still a difference in height between majors, when controlling for differences in gender?"
   ]
  },
  {
   "cell_type": "markdown",
   "metadata": {
    "deletable": false,
    "editable": false,
    "nbgrader": {
     "cell_type": "markdown",
     "checksum": "0dce3adba50b555d234586a2187a8091",
     "grade": false,
     "grade_id": "lm_instr",
     "locked": true,
     "schema_version": 3,
     "solution": false
    }
   },
   "source": [
    "#### Linear Models\n",
    "\n",
    "For the following question you will need to make some linear models, using Ordinary Least Squares (OLS).\n",
    "\n",
    "There is more than one way to do this in Python. For the purposes of this assignment, you must use the method that is outlined in the 'LinearModels' Tutorial, using patsy, and statsmodels. \n",
    "\n",
    "That is: \n",
    "- Create design matrices with `patsy.dmatrices`\n",
    "- Initialize an OLS model with `sm.OLS`\n",
    "- Fit the OLS model\n",
    "- Check the summary for results. "
   ]
  },
  {
   "cell_type": "markdown",
   "metadata": {
    "deletable": false,
    "editable": false,
    "nbgrader": {
     "cell_type": "markdown",
     "checksum": "e3e795ed6d0a75f3e83245aa548c16a5",
     "grade": false,
     "grade_id": "cell-e6a4559fb39bb15f",
     "locked": true,
     "schema_version": 3,
     "solution": false,
     "task": false
    }
   },
   "source": [
    "### 4h) Linear model\n",
    "\n",
    "Create a linear model to predict height from major (using `df2` as data).\n",
    "\n",
    "Use `patsy.dmatrices` to create the design matrices, calling the outputs `outcome_1`, `predictors_1`.\n",
    "\n",
    "Create an OLS model (`sm.OLS`) using `outcome_1` and `predictors_1`. Call it `mod_1`.\n",
    "\n",
    "Fit the model, assigning it to `res_1`."
   ]
  },
  {
   "cell_type": "code",
   "execution_count": 114,
   "metadata": {
    "deletable": false,
    "nbgrader": {
     "cell_type": "code",
     "checksum": "64fd2b72038be4d6bc10c5b93f31f50e",
     "grade": false,
     "grade_id": "5h",
     "locked": false,
     "schema_version": 3,
     "solution": true
    }
   },
   "outputs": [],
   "source": [
    "# your code here\n",
    "outcome_1, predictors_1 = patsy.dmatrices('height ~ major',df2)\n",
    "mod_1 = sm.OLS(outcome_1, predictors_1)\n",
    "res_1 = mod_1.fit()"
   ]
  },
  {
   "cell_type": "code",
   "execution_count": 115,
   "metadata": {
    "deletable": false,
    "editable": false,
    "nbgrader": {
     "cell_type": "code",
     "checksum": "95fa31b6c786eb01b84704536d41ce28",
     "grade": true,
     "grade_id": "5h_ans",
     "locked": true,
     "points": 0.5,
     "schema_version": 3,
     "solution": false
    }
   },
   "outputs": [],
   "source": [
    "assert isinstance(outcome_1, patsy.design_info.DesignMatrix)\n",
    "assert isinstance(predictors_1, patsy.design_info.DesignMatrix)\n",
    "assert isinstance(mod_1, sm.regression.linear_model.OLS)\n",
    "assert isinstance(res_1, sm.regression.linear_model.RegressionResultsWrapper)\n"
   ]
  },
  {
   "cell_type": "code",
   "execution_count": 116,
   "metadata": {
    "deletable": false,
    "editable": false,
    "nbgrader": {
     "cell_type": "code",
     "checksum": "60838c1d7fea9c0f6b34cee79d2af426",
     "grade": false,
     "grade_id": "print_lm1",
     "locked": true,
     "schema_version": 3,
     "solution": false
    }
   },
   "outputs": [
    {
     "name": "stdout",
     "output_type": "stream",
     "text": [
      "                            OLS Regression Results                            \n",
      "==============================================================================\n",
      "Dep. Variable:                 height   R-squared:                       0.033\n",
      "Model:                            OLS   Adj. R-squared:                  0.030\n",
      "Method:                 Least Squares   F-statistic:                     11.44\n",
      "Date:                Thu, 10 Nov 2022   Prob (F-statistic):           0.000803\n",
      "Time:                        19:50:54   Log-Likelihood:                -941.95\n",
      "No. Observations:                 342   AIC:                             1888.\n",
      "Df Residuals:                     340   BIC:                             1896.\n",
      "Df Model:                           1                                         \n",
      "Covariance Type:            nonrobust                                         \n",
      "====================================================================================\n",
      "                       coef    std err          t      P>|t|      [0.025      0.975]\n",
      "------------------------------------------------------------------------------------\n",
      "Intercept           66.8131      0.286    233.825      0.000      66.251      67.375\n",
      "major[T.COMPSCI]     1.3955      0.413      3.382      0.001       0.584       2.207\n",
      "==============================================================================\n",
      "Omnibus:                       13.358   Durbin-Watson:                   1.895\n",
      "Prob(Omnibus):                  0.001   Jarque-Bera (JB):                6.324\n",
      "Skew:                           0.041   Prob(JB):                       0.0423\n",
      "Kurtosis:                       2.339   Cond. No.                         2.57\n",
      "==============================================================================\n",
      "\n",
      "Notes:\n",
      "[1] Standard Errors assume that the covariance matrix of the errors is correctly specified.\n"
     ]
    }
   ],
   "source": [
    "# Print out the summary results of the model fitting\n",
    "print(res_1.summary())"
   ]
  },
  {
   "cell_type": "markdown",
   "metadata": {
    "deletable": false,
    "editable": false,
    "nbgrader": {
     "cell_type": "markdown",
     "checksum": "59a49e56dcb425b337685c4b95d80ec2",
     "grade": false,
     "grade_id": "cell-d360ae10d3c848d5",
     "locked": true,
     "schema_version": 3,
     "solution": false,
     "task": false
    }
   },
   "source": [
    "### 4i) Assess significance: `mod_1`\n",
    "\n",
    "Based on the model you ran above (using alpha value of 0.01), does major significantly predict height?\n",
    "\n",
    "Set your answer as a boolean (True / False) to a variable called `lm_1`."
   ]
  },
  {
   "cell_type": "code",
   "execution_count": 117,
   "metadata": {
    "deletable": false,
    "nbgrader": {
     "cell_type": "code",
     "checksum": "80774d9bc1dcc76a5384d4497daac6da",
     "grade": false,
     "grade_id": "5i",
     "locked": false,
     "schema_version": 3,
     "solution": true
    }
   },
   "outputs": [],
   "source": [
    "# your code here\n",
    "lm_1 = True"
   ]
  },
  {
   "cell_type": "code",
   "execution_count": 118,
   "metadata": {
    "deletable": false,
    "editable": false,
    "nbgrader": {
     "cell_type": "code",
     "checksum": "ae3f038e44821de63cb952488d463087",
     "grade": true,
     "grade_id": "5i_ans",
     "locked": true,
     "points": 0.2,
     "schema_version": 3,
     "solution": false
    }
   },
   "outputs": [],
   "source": [
    "assert isinstance(lm_1, bool)\n"
   ]
  },
  {
   "cell_type": "markdown",
   "metadata": {
    "deletable": false,
    "editable": false,
    "nbgrader": {
     "cell_type": "markdown",
     "checksum": "83c9fb26dc54924c883504ff63e9d50b",
     "grade": false,
     "grade_id": "cell-7a597c0e4d125a2b",
     "locked": true,
     "schema_version": 3,
     "solution": false,
     "task": false
    }
   },
   "source": [
    "### 4j) Multivariate regression\n",
    "\n",
    "Create a linear model to predict height from both major and gender (using `df2` as data).\n",
    "\n",
    "Use `patsy.dmatrices` to create the design matrices, calling the outputs `outcome_2`, `predictors_2`\n",
    "\n",
    "Create an OLS model (`sm.OLS`) using `outcome_2` and `predictors_2`.  Call it `mod_2`.\n",
    "\n",
    "Fit the model, assigning it to `res_2`.\n"
   ]
  },
  {
   "cell_type": "code",
   "execution_count": 119,
   "metadata": {
    "deletable": false,
    "nbgrader": {
     "cell_type": "code",
     "checksum": "0dc8b2acae9fc22036321534f6b6311c",
     "grade": false,
     "grade_id": "5j",
     "locked": false,
     "schema_version": 3,
     "solution": true
    }
   },
   "outputs": [],
   "source": [
    "# your code here\n",
    "outcome_2, predictors_2 = patsy.dmatrices('height ~ major + gender',df2)\n",
    "mod_2 = sm.OLS(outcome_2, predictors_2)\n",
    "res_2 = mod_2.fit()"
   ]
  },
  {
   "cell_type": "code",
   "execution_count": 120,
   "metadata": {
    "deletable": false,
    "editable": false,
    "nbgrader": {
     "cell_type": "code",
     "checksum": "cba278f597e93ddf5c843ff2dc5b50cd",
     "grade": true,
     "grade_id": "5j_ans",
     "locked": true,
     "points": 0.5,
     "schema_version": 3,
     "solution": false
    }
   },
   "outputs": [],
   "source": [
    "assert isinstance(outcome_2, patsy.design_info.DesignMatrix)\n",
    "assert isinstance(predictors_2, patsy.design_info.DesignMatrix)\n",
    "assert isinstance(mod_2, sm.regression.linear_model.OLS)\n",
    "assert isinstance(res_2, sm.regression.linear_model.RegressionResultsWrapper)\n"
   ]
  },
  {
   "cell_type": "code",
   "execution_count": 121,
   "metadata": {
    "deletable": false,
    "editable": false,
    "nbgrader": {
     "cell_type": "code",
     "checksum": "5f50ad244b3bd379017fda0dcb36e7ba",
     "grade": false,
     "grade_id": "print_lm2",
     "locked": true,
     "schema_version": 3,
     "solution": false
    }
   },
   "outputs": [
    {
     "name": "stdout",
     "output_type": "stream",
     "text": [
      "                            OLS Regression Results                            \n",
      "==============================================================================\n",
      "Dep. Variable:                 height   R-squared:                       0.515\n",
      "Model:                            OLS   Adj. R-squared:                  0.511\n",
      "Method:                 Least Squares   F-statistic:                     119.7\n",
      "Date:                Thu, 10 Nov 2022   Prob (F-statistic):           7.59e-53\n",
      "Time:                        19:52:21   Log-Likelihood:                -823.79\n",
      "No. Observations:                 342   AIC:                             1656.\n",
      "Df Residuals:                     338   BIC:                             1671.\n",
      "Df Model:                           3                                         \n",
      "Covariance Type:            nonrobust                                         \n",
      "================================================================================================\n",
      "                                   coef    std err          t      P>|t|      [0.025      0.975]\n",
      "------------------------------------------------------------------------------------------------\n",
      "Intercept                       63.8573      0.260    245.373      0.000      63.345      64.369\n",
      "major[T.COMPSCI]                -0.0540      0.304     -0.178      0.859      -0.651       0.543\n",
      "gender[T.male]                   5.7745      0.316     18.277      0.000       5.153       6.396\n",
      "gender[T.nonbinary_or_trans]     0.6697      1.930      0.347      0.729      -3.127       4.466\n",
      "==============================================================================\n",
      "Omnibus:                       14.324   Durbin-Watson:                   1.982\n",
      "Prob(Omnibus):                  0.001   Jarque-Bera (JB):                6.810\n",
      "Skew:                           0.083   Prob(JB):                       0.0332\n",
      "Kurtosis:                       2.329   Cond. No.                         17.5\n",
      "==============================================================================\n",
      "\n",
      "Notes:\n",
      "[1] Standard Errors assume that the covariance matrix of the errors is correctly specified.\n"
     ]
    }
   ],
   "source": [
    "# Print out the results \n",
    "print(res_2.summary())"
   ]
  },
  {
   "cell_type": "markdown",
   "metadata": {},
   "source": [
    "### 4k) Assess significance: `mod_2`\n",
    "\n",
    "Based on the model you ran above (using alpha value of 0.01), does major significantly predict height?\n",
    "\n",
    "Set your answer as a boolean (True / False) to a variable called `lm_2`"
   ]
  },
  {
   "cell_type": "code",
   "execution_count": 122,
   "metadata": {
    "deletable": false,
    "nbgrader": {
     "cell_type": "code",
     "checksum": "395d62af5f1eeb280a281a4c630c6992",
     "grade": false,
     "grade_id": "5k",
     "locked": false,
     "schema_version": 3,
     "solution": true
    }
   },
   "outputs": [],
   "source": [
    "# your code here\n",
    "lm_2 = False"
   ]
  },
  {
   "cell_type": "code",
   "execution_count": 123,
   "metadata": {
    "deletable": false,
    "editable": false,
    "nbgrader": {
     "cell_type": "code",
     "checksum": "84d2e1b46b3945049614a680ae38b0d3",
     "grade": true,
     "grade_id": "5k_ans",
     "locked": true,
     "points": 0.2,
     "schema_version": 3,
     "solution": false
    }
   },
   "outputs": [],
   "source": [
    "assert isinstance(lm_2, bool)\n"
   ]
  },
  {
   "cell_type": "markdown",
   "metadata": {
    "deletable": false,
    "editable": false,
    "nbgrader": {
     "cell_type": "markdown",
     "checksum": "ab7d587ef369c87e3eacddd0cc44d0dd",
     "grade": false,
     "grade_id": "part6",
     "locked": true,
     "schema_version": 3,
     "solution": false
    }
   },
   "source": [
    "## Part 5: Discussion & Conclusions (0.15 points)"
   ]
  },
  {
   "cell_type": "markdown",
   "metadata": {
    "deletable": false,
    "editable": false,
    "nbgrader": {
     "cell_type": "markdown",
     "checksum": "7f0f93add6b5d61fe198dc82a04a36c8",
     "grade": false,
     "grade_id": "cell-e95a4bdee92b4974",
     "locked": true,
     "schema_version": 3,
     "solution": false,
     "task": false
    }
   },
   "source": [
    "### 5a) Conclusion\n",
    "\n",
    "Set a boolean variable, called `ans`, as True or False as the answer to the following statement:\n",
    "\n",
    "We have evidence supporting our research hypothesis:\n",
    "\n",
    "> People in different majors have systematically different heights (and this difference can be tied to their major).\n"
   ]
  },
  {
   "cell_type": "code",
   "execution_count": 124,
   "metadata": {
    "deletable": false,
    "nbgrader": {
     "cell_type": "code",
     "checksum": "b7c60637bb686d82e2937dcce3a5fe35",
     "grade": false,
     "grade_id": "6a",
     "locked": false,
     "schema_version": 3,
     "solution": true
    }
   },
   "outputs": [],
   "source": [
    "# your code here\n",
    "ans = False"
   ]
  },
  {
   "cell_type": "code",
   "execution_count": 125,
   "metadata": {
    "deletable": false,
    "editable": false,
    "nbgrader": {
     "cell_type": "code",
     "checksum": "e165faace52ee8bd93ed412020b8c3c6",
     "grade": true,
     "grade_id": "6a_ans",
     "locked": true,
     "points": 0.15,
     "schema_version": 3,
     "solution": false
    }
   },
   "outputs": [],
   "source": [
    "assert isinstance(ans, bool)\n"
   ]
  },
  {
   "cell_type": "markdown",
   "metadata": {
    "collapsed": true,
    "deletable": false,
    "editable": false,
    "nbgrader": {
     "cell_type": "markdown",
     "checksum": "059db5522be173b63845221db8cdb198",
     "grade": false,
     "grade_id": "cell-e32a03e2cb2725bf",
     "locked": true,
     "schema_version": 3,
     "solution": false
    }
   },
   "source": [
    "### 5b) Summary\n",
    "\n",
    "Write a short response (1-2 sentence) summarizing the results.\n",
    "\n",
    "Did we support our hypothesis? Why or why not? What turned out to be the finding(s)?"
   ]
  },
  {
   "cell_type": "markdown",
   "metadata": {},
   "source": [
    "YOUR ANSWER HERE\n",
    "\n",
    "This hypothesis is not supported because our correlation of height and profession is highly influenced by the sex ratio between the two professions, hence height and sex h."
   ]
  },
  {
   "cell_type": "markdown",
   "metadata": {
    "deletable": false,
    "editable": false,
    "nbgrader": {
     "cell_type": "markdown",
     "checksum": "7558d16646be70bd202bc2d6183fab5f",
     "grade": false,
     "grade_id": "cell-46042968a5ec7ae8",
     "locked": true,
     "schema_version": 3,
     "solution": false
    }
   },
   "source": [
    "## The End!\n",
    "\n",
    "Good work! Have a look back over your answers, and also make sure to `Restart & Run All` from the kernel menu to double check that everything is working properly. You can also use the 'Validate' button above, which runs your notebook from top to bottom and checks to ensure all `assert` statements pass silently. When you are ready, submit on datahub!"
   ]
  }
 ],
 "metadata": {
  "kernelspec": {
   "display_name": "Python 3 (ipykernel)",
   "language": "python",
   "name": "python3"
  },
  "language_info": {
   "codemirror_mode": {
    "name": "ipython",
    "version": 3
   },
   "file_extension": ".py",
   "mimetype": "text/x-python",
   "name": "python",
   "nbconvert_exporter": "python",
   "pygments_lexer": "ipython3",
   "version": "3.9.5"
  }
 },
 "nbformat": 4,
 "nbformat_minor": 2
}
